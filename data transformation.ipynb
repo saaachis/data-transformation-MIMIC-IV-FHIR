{
 "cells": [
  {
   "cell_type": "markdown",
   "id": "cf7047d8-558a-4064-a23d-176952b1897a",
   "metadata": {},
   "source": [
    "## Data Transformation - Unstructured Data to Structured Data"
   ]
  },
  {
   "cell_type": "markdown",
   "id": "c0da1b96-0e84-4f33-ad93-5d95e55af9cf",
   "metadata": {},
   "source": [
    "***"
   ]
  },
  {
   "cell_type": "markdown",
   "id": "4cc92da5-63e2-43a3-8507-354b7b7df6fa",
   "metadata": {},
   "source": [
    "\n",
    "### Aim of Project:\n",
    "\n",
    "To transform the MIMIC-IV FHIR dataset into a structured format suitable for analysis by converting its JSON files containing patient, condition, and encounter data into a CSV file that maps patient IDs to condition timestamps. This involves extracting, processing, and merging data to create a comprehensive and analyzable dataset."
   ]
  },
  {
   "cell_type": "markdown",
   "id": "8f314f19-43b3-427e-81c8-9d6ccddae01b",
   "metadata": {},
   "source": [
    "***"
   ]
  },
  {
   "cell_type": "markdown",
   "id": "492ee165-f91d-4cdf-81cb-a45db1662d7e",
   "metadata": {},
   "source": [
    "### 1] importing required packages"
   ]
  },
  {
   "cell_type": "code",
   "execution_count": 1,
   "id": "5801a1ee-6e20-4abd-8468-13aac67019f4",
   "metadata": {},
   "outputs": [],
   "source": [
    "import json\n",
    "import csv\n",
    "import pandas as pd\n",
    "from datetime import datetime\n",
    "from dateutil import parser"
   ]
  },
  {
   "cell_type": "markdown",
   "id": "796c5f87-3d92-4ae3-b708-ea91a47475e9",
   "metadata": {},
   "source": [
    "### 2] loading the ndjson files"
   ]
  },
  {
   "cell_type": "code",
   "execution_count": 2,
   "id": "b4a672a5-9217-4810-a513-769a00d619cb",
   "metadata": {},
   "outputs": [],
   "source": [
    "\n",
    "def load_ndjson(file_path):\n",
    "    with open(file_path, 'r') as file:\n",
    "        return [json.loads(line) for line in file]\n",
    "\n",
    "\n",
    "patients_data = load_ndjson('Patient.ndjson')\n",
    "conditions_data = load_ndjson('Condition.ndjson')\n",
    "encounters_data = load_ndjson('Encounter.ndjson') + load_ndjson('EncounterICU.ndjson')\n"
   ]
  },
  {
   "cell_type": "markdown",
   "id": "b0be0280-851b-4fbe-91e2-80beaf715446",
   "metadata": {},
   "source": [
    "### 3] viewing the ndjson files"
   ]
  },
  {
   "cell_type": "code",
   "execution_count": 3,
   "id": "f0941a06-923f-4491-8c4b-d97be506d6e6",
   "metadata": {},
   "outputs": [
    {
     "name": "stdout",
     "output_type": "stream",
     "text": [
      "First 2 records of patients_data:\n",
      "\n",
      " {'resourceType': 'Patient', 'id': '0a8eebfd-a352-522e-89f0-1d4a13abdebc', 'meta': {'versionId': '1', 'lastUpdated': '2022-05-24T15:14:55.471-04:00', 'source': '#V0XlSRZTewCRRSjY', 'profile': ['http://fhir.mimic.mit.edu/StructureDefinition/mimic-patient']}, 'text': {'status': 'generated', 'div': '<div xmlns=\"http://www.w3.org/1999/xhtml\"><div class=\"hapiHeaderText\"><b>PATIENT_10000032 </b></div><table class=\"hapiPropertyTable\"><tbody><tr><td>Identifier</td><td>10000032</td></tr><tr><td>Date of birth</td><td><span>06 May 2128</span></td></tr></tbody></table></div>'}, 'extension': [{'url': 'http://hl7.org/fhir/us/core/StructureDefinition/us-core-race', 'extension': [{'url': 'ombCategory', 'valueCoding': {'system': 'urn:oid:2.16.840.1.113883.6.238', 'code': '2106-3', 'display': 'White'}}, {'url': 'text', 'valueString': 'White'}]}, {'url': 'http://hl7.org/fhir/us/core/StructureDefinition/us-core-ethnicity', 'extension': [{'url': 'ombCategory', 'valueCoding': {'system': 'urn:oid:2.16.840.1.113883.6.238', 'code': '2186-5', 'display': 'Not Hispanic or Latino'}}, {'url': 'text', 'valueString': 'Not Hispanic or Latino'}]}, {'url': 'http://hl7.org/fhir/us/core/StructureDefinition/us-core-birthsex', 'valueCode': 'F'}], 'identifier': [{'system': 'http://fhir.mimic.mit.edu/identifier/patient', 'value': '10000032'}], 'name': [{'use': 'official', 'family': 'Patient_10000032'}], 'gender': 'female', 'birthDate': '2128-05-06', 'deceasedDateTime': '2180-09-09', 'maritalStatus': {'coding': [{'system': 'http://terminology.hl7.org/CodeSystem/v3-MaritalStatus', 'code': 'W'}]}, 'communication': [{'language': {'coding': [{'system': 'urn:ietf:bcp:47', 'code': 'en'}]}}], 'managingOrganization': {'reference': 'Organization/ee172322-118b-5716-abbc-18e4c5437e15'}}\n",
      "\n",
      " {'resourceType': 'Patient', 'id': '0c2243d2-987b-5cbd-8eb1-170a80647693', 'meta': {'versionId': '1', 'lastUpdated': '2022-05-24T16:03:39.709-04:00', 'source': '#1o2HdJfQJ6MMD7d3', 'profile': ['http://fhir.mimic.mit.edu/StructureDefinition/mimic-patient']}, 'text': {'status': 'generated', 'div': '<div xmlns=\"http://www.w3.org/1999/xhtml\"><div class=\"hapiHeaderText\"><b>PATIENT_10005866 </b></div><table class=\"hapiPropertyTable\"><tbody><tr><td>Identifier</td><td>10005866</td></tr><tr><td>Date of birth</td><td><span>05 June 2089</span></td></tr></tbody></table></div>'}, 'extension': [{'url': 'http://hl7.org/fhir/us/core/StructureDefinition/us-core-race', 'extension': [{'url': 'ombCategory', 'valueCoding': {'system': 'urn:oid:2.16.840.1.113883.6.238', 'code': '2106-3', 'display': 'White'}}, {'url': 'text', 'valueString': 'White'}]}, {'url': 'http://hl7.org/fhir/us/core/StructureDefinition/us-core-ethnicity', 'extension': [{'url': 'ombCategory', 'valueCoding': {'system': 'urn:oid:2.16.840.1.113883.6.238', 'code': '2186-5', 'display': 'Not Hispanic or Latino'}}, {'url': 'text', 'valueString': 'Not Hispanic or Latino'}]}, {'url': 'http://hl7.org/fhir/us/core/StructureDefinition/us-core-birthsex', 'valueCode': 'M'}], 'identifier': [{'system': 'http://fhir.mimic.mit.edu/identifier/patient', 'value': '10005866'}], 'name': [{'use': 'official', 'family': 'Patient_10005866'}], 'gender': 'male', 'birthDate': '2089-06-05', 'deceasedDateTime': '2149-11-21', 'maritalStatus': {'coding': [{'system': 'http://terminology.hl7.org/CodeSystem/v3-MaritalStatus', 'code': 'S'}]}, 'communication': [{'language': {'coding': [{'system': 'urn:ietf:bcp:47', 'code': 'en'}]}}], 'managingOrganization': {'reference': 'Organization/ee172322-118b-5716-abbc-18e4c5437e15'}}\n"
     ]
    }
   ],
   "source": [
    "print(\"First 2 records of patients_data:\")\n",
    "\n",
    "for patient in patients_data[:2]:\n",
    "    print(\"\\n\", patient)"
   ]
  },
  {
   "cell_type": "code",
   "execution_count": 4,
   "id": "ab67c0b8-47eb-4498-bc83-d6471661db68",
   "metadata": {},
   "outputs": [
    {
     "name": "stdout",
     "output_type": "stream",
     "text": [
      "\n",
      "First 2 records of conditions_data:\n",
      "\n",
      " {'resourceType': 'Condition', 'id': '0002fff8-11c5-5d6d-975a-b926a13bb02b', 'meta': {'versionId': '1', 'lastUpdated': '2022-05-24T15:51:35.263-04:00', 'source': '#CexDBHtjfcg8Ti57', 'profile': ['http://fhir.mimic.mit.edu/StructureDefinition/mimic-condition']}, 'identifier': [{'system': 'http://fhir.mimic.mit.edu/identifier/condition', 'value': '28108313-4-Z8546'}], 'category': [{'coding': [{'system': 'http://terminology.hl7.org/CodeSystem/condition-category', 'code': 'encounter-diagnosis'}]}], 'code': {'coding': [{'system': 'http://fhir.mimic.mit.edu/CodeSystem/diagnosis-icd10', 'code': 'Z8546', 'display': 'Personal history of malignant neoplasm of prostate'}]}, 'subject': {'reference': 'Patient/b410dd44-7d65-56f9-974f-2751e8aa80e2'}, 'encounter': {'reference': 'Encounter/ca52755d-7780-524a-a5f8-6c5d2fc2136a'}}\n",
      "\n",
      " {'resourceType': 'Condition', 'id': '0014d847-44bd-5bfa-ac44-f411071c1e72', 'meta': {'versionId': '1', 'lastUpdated': '2022-05-24T16:57:05.098-04:00', 'source': '#lpeHEGvCstBc1hwY', 'profile': ['http://fhir.mimic.mit.edu/StructureDefinition/mimic-condition']}, 'identifier': [{'system': 'http://fhir.mimic.mit.edu/identifier/condition', 'value': '21457723-17-F329'}], 'category': [{'coding': [{'system': 'http://terminology.hl7.org/CodeSystem/condition-category', 'code': 'encounter-diagnosis'}]}], 'code': {'coding': [{'system': 'http://fhir.mimic.mit.edu/CodeSystem/diagnosis-icd10', 'code': 'F329', 'display': 'Major depressive disorder, single episode, unspecified'}]}, 'subject': {'reference': 'Patient/91f25704-6153-5259-bdd7-2ca6478de14a'}, 'encounter': {'reference': 'Encounter/10281e22-4197-5100-a745-8fa0f6afd023'}}\n"
     ]
    }
   ],
   "source": [
    "print(\"\\nFirst 2 records of conditions_data:\")\n",
    "\n",
    "for condition in conditions_data[:2]:\n",
    "    print(\"\\n\", condition)"
   ]
  },
  {
   "cell_type": "code",
   "execution_count": 5,
   "id": "285b9ff2-76a5-4bb1-ab81-fe7fb4d1766d",
   "metadata": {},
   "outputs": [
    {
     "name": "stdout",
     "output_type": "stream",
     "text": [
      "\n",
      "First 2 records of encounters_data:\n",
      "\n",
      " {'resourceType': 'Encounter', 'id': '0071a339-74cd-596a-9083-771d41d6d118', 'meta': {'versionId': '1', 'lastUpdated': '2022-05-24T16:22:58.682-04:00', 'source': '#yJ9Zy3hOLyEtjrG2', 'profile': ['http://fhir.mimic.mit.edu/StructureDefinition/mimic-encounter']}, 'identifier': [{'use': 'usual', 'system': 'http://fhir.mimic.mit.edu/identifier/encounter', 'value': '22429197', 'assigner': {'reference': 'Organization/ee172322-118b-5716-abbc-18e4c5437e15'}}], 'status': 'finished', 'class': {'system': 'http://fhir.mimic.mit.edu/CodeSystem/admission-class', 'code': 'EW EMER.'}, 'type': [{'coding': [{'system': 'http://snomed.info/sct', 'code': '453701000124103', 'display': 'In-person encounter (procedure)'}]}], 'serviceType': {'coding': [{'system': 'http://fhir.mimic.mit.edu/CodeSystem/services', 'code': 'TRAUM'}]}, 'priority': {'coding': [{'system': 'http://fhir.mimic.mit.edu/CodeSystem/admission-type', 'code': 'EW EMER.'}]}, 'subject': {'reference': 'Patient/24450f28-a039-57d8-95c9-d7ba5508ecd4'}, 'period': {'start': '2147-12-30T08:40:00-05:00', 'end': '2148-01-11T17:55:00-05:00'}, 'hospitalization': {'admitSource': {'coding': [{'system': 'http://fhir.mimic.mit.edu/CodeSystem/admit-source', 'code': 'EMERGENCY ROOM'}]}, 'dischargeDisposition': {'coding': [{'system': 'http://fhir.mimic.mit.edu/CodeSystem/discharge-disposition', 'code': 'REHAB'}]}}, 'location': [{'location': {'reference': 'Location/501cd59a-cd8a-5f98-8298-2ca9c897d59f'}, 'period': {'start': '2147-12-30T06:45:00-05:00', 'end': '2147-12-30T09:33:00-05:00'}}, {'location': {'reference': 'Location/00e4b7f2-1d93-5521-9dd9-cba8fa9461af'}, 'period': {'start': '2147-12-30T09:33:00-05:00', 'end': '2148-01-02T23:24:32-05:00'}}, {'location': {'reference': 'Location/00e4b7f2-1d93-5521-9dd9-cba8fa9461af'}, 'period': {'start': '2148-01-02T23:24:32-05:00', 'end': '2148-01-08T18:14:21-05:00'}}, {'location': {'reference': 'Location/d82eeafd-5ac3-5765-8eb2-2b4153978abb'}, 'period': {'start': '2148-01-08T18:14:21-05:00', 'end': '2148-01-11T17:55:24-05:00'}}], 'serviceProvider': {'reference': 'Organization/ee172322-118b-5716-abbc-18e4c5437e15'}}\n",
      "\n",
      " {'resourceType': 'Encounter', 'id': '00b9b622-9138-5ebf-8cf9-087c37564702', 'meta': {'versionId': '1', 'lastUpdated': '2022-05-24T16:03:39.709-04:00', 'source': '#1o2HdJfQJ6MMD7d3', 'profile': ['http://fhir.mimic.mit.edu/StructureDefinition/mimic-encounter']}, 'identifier': [{'use': 'usual', 'system': 'http://fhir.mimic.mit.edu/identifier/encounter', 'value': '27167814', 'assigner': {'reference': 'Organization/ee172322-118b-5716-abbc-18e4c5437e15'}}], 'status': 'finished', 'class': {'system': 'http://fhir.mimic.mit.edu/CodeSystem/admission-class', 'code': 'EW EMER.'}, 'type': [{'coding': [{'system': 'http://snomed.info/sct', 'code': '453701000124103', 'display': 'In-person encounter (procedure)'}]}], 'serviceType': {'coding': [{'system': 'http://fhir.mimic.mit.edu/CodeSystem/services', 'code': 'SURG'}]}, 'priority': {'coding': [{'system': 'http://fhir.mimic.mit.edu/CodeSystem/admission-type', 'code': 'EW EMER.'}]}, 'subject': {'reference': 'Patient/0c2243d2-987b-5cbd-8eb1-170a80647693'}, 'period': {'start': '2148-03-10T16:16:00-04:00', 'end': '2148-03-21T18:30:00-04:00'}, 'hospitalization': {'admitSource': {'coding': [{'system': 'http://fhir.mimic.mit.edu/CodeSystem/admit-source', 'code': 'EMERGENCY ROOM'}]}, 'dischargeDisposition': {'coding': [{'system': 'http://fhir.mimic.mit.edu/CodeSystem/discharge-disposition', 'code': 'SKILLED NURSING FACILITY'}]}}, 'location': [{'location': {'reference': 'Location/501cd59a-cd8a-5f98-8298-2ca9c897d59f'}, 'period': {'start': '2148-03-10T04:46:00-04:00', 'end': '2148-03-10T16:18:48-04:00'}}, {'location': {'reference': 'Location/d4b315bc-5e39-5162-9d5c-dada4294b1a9'}, 'period': {'start': '2148-03-10T16:18:48-04:00', 'end': '2148-03-11T14:30:28-04:00'}}, {'location': {'reference': 'Location/9152585d-31b9-50ca-9476-a4db49030917'}, 'period': {'start': '2148-03-11T14:30:28-04:00', 'end': '2148-03-21T18:31:32-04:00'}}], 'serviceProvider': {'reference': 'Organization/ee172322-118b-5716-abbc-18e4c5437e15'}}\n"
     ]
    }
   ],
   "source": [
    "print(\"\\nFirst 2 records of encounters_data:\")\n",
    "\n",
    "for encounter in encounters_data[:2]:\n",
    "    print(\"\\n\", encounter)"
   ]
  },
  {
   "cell_type": "markdown",
   "id": "936e7122-2e88-4ed0-a617-cd825be7f466",
   "metadata": {},
   "source": [
    "### 4] creating dictionaries for each key as a patient "
   ]
  },
  {
   "cell_type": "code",
   "execution_count": 6,
   "id": "6554304c-8adf-4199-9af0-cba5e7e08d82",
   "metadata": {},
   "outputs": [],
   "source": [
    "\n",
    "patient_conditions = {}\n",
    "\n",
    "for condition in conditions_data:\n",
    "    \n",
    "    #extracting the patient reference from each condition\n",
    "    patient_ref = condition.get('subject', {}).get('reference', \"\")\n",
    "\n",
    "    #processesing the patient_ref string to extract the patient ID \n",
    "    patient_id = patient_ref.split('/')[-1] if patient_ref else None\n",
    "    \n",
    "    if patient_id:\n",
    "        if patient_id not in patient_conditions:\n",
    "            patient_conditions[patient_id] = []\n",
    "        patient_conditions[patient_id].append(condition)"
   ]
  },
  {
   "cell_type": "markdown",
   "id": "b90ee7f5-1aad-4dc0-a24e-098555146e5e",
   "metadata": {},
   "source": [
    "### 5] viewing the dictionary for one specific patient"
   ]
  },
  {
   "cell_type": "code",
   "execution_count": 26,
   "id": "dd54c877-dc41-4afb-832b-2868a651c8db",
   "metadata": {},
   "outputs": [
    {
     "name": "stdout",
     "output_type": "stream",
     "text": [
      "Conditions for specific patient ID, b410dd44-7d65-56f9-974f-2751e8aa80e2 :\n",
      "\n",
      "[{'resourceType': 'Condition', 'id': '0002fff8-11c5-5d6d-975a-b926a13bb02b', 'meta': {'versionId': '1', 'lastUpdated': '2022-05-24T15:51:35.263-04:00', 'source': '#CexDBHtjfcg8Ti57', 'profile': ['http://fhir.mimic.mit.edu/StructureDefinition/mimic-condition']}, 'identifier': [{'system': 'http://fhir.mimic.mit.edu/identifier/condition', 'value': '28108313-4-Z8546'}], 'category': [{'coding': [{'system': 'http://terminology.hl7.org/CodeSystem/condition-category', 'code': 'encounter-diagnosis'}]}], 'code': {'coding': [{'system': 'http://fhir.mimic.mit.edu/CodeSystem/diagnosis-icd10', 'code': 'Z8546', 'display': 'Personal history of malignant neoplasm of prostate'}]}, 'subject': {'reference': 'Patient/b410dd44-7d65-56f9-974f-2751e8aa80e2'}, 'encounter': {'reference': 'Encounter/ca52755d-7780-524a-a5f8-6c5d2fc2136a'}, 'start_time': 5616018000}, {'resourceType': 'Condition', 'id': '024ab8d3-e719-50c3-b70a-d3e1760ab100', 'meta': {'versionId': '1', 'lastUpdated': '2022-05-24T15:51:35.263-04:00', 'source': '#CexDBHtjfcg8Ti57', 'profile': ['http://fhir.mimic.mit.edu/StructureDefinition/mimic-condition']}, 'identifier': [{'system': 'http://fhir.mimic.mit.edu/identifier/condition', 'value': '21039249-6-V1072'}], 'category': [{'coding': [{'system': 'http://terminology.hl7.org/CodeSystem/condition-category', 'code': 'encounter-diagnosis'}]}], 'code': {'coding': [{'system': 'http://fhir.mimic.mit.edu/CodeSystem/diagnosis-icd9', 'code': 'V1072', 'display': \"Personal history of hodgkin's disease\"}]}, 'subject': {'reference': 'Patient/b410dd44-7d65-56f9-974f-2751e8aa80e2'}, 'encounter': {'reference': 'Encounter/50437dde-70e1-5b84-b35d-ed4bbd41246e'}, 'start_time': 5387190060}, {'resourceType': 'Condition', 'id': '0457265c-e4b9-5ebc-b3bb-03897dfb26b2', 'meta': {'versionId': '1', 'lastUpdated': '2022-05-24T15:51:35.263-04:00', 'source': '#CexDBHtjfcg8Ti57', 'profile': ['http://fhir.mimic.mit.edu/StructureDefinition/mimic-condition']}, 'identifier': [{'system': 'http://fhir.mimic.mit.edu/identifier/condition', 'value': '25559382-8-Z7902'}], 'category': [{'coding': [{'system': 'http://terminology.hl7.org/CodeSystem/condition-category', 'code': 'encounter-diagnosis'}]}], 'code': {'coding': [{'system': 'http://fhir.mimic.mit.edu/CodeSystem/diagnosis-icd10', 'code': 'Z7902', 'display': 'Long term (current) use of antithrombotics/antiplatelets'}]}, 'subject': {'reference': 'Patient/b410dd44-7d65-56f9-974f-2751e8aa80e2'}, 'encounter': {'reference': 'Encounter/51a1032b-2850-5ba5-a662-74a6a988cb9e'}, 'start_time': 5639393940}, {'resourceType': 'Condition', 'id': '0617a568-82b1-5f92-ba25-e9d5a7ed3b1b', 'meta': {'versionId': '1', 'lastUpdated': '2022-05-24T15:51:35.263-04:00', 'source': '#CexDBHtjfcg8Ti57', 'profile': ['http://fhir.mimic.mit.edu/StructureDefinition/mimic-condition']}, 'identifier': [{'system': 'http://fhir.mimic.mit.edu/identifier/condition', 'value': '23251352-11-49390'}], 'category': [{'coding': [{'system': 'http://terminology.hl7.org/CodeSystem/condition-category', 'code': 'encounter-diagnosis'}]}], 'code': {'coding': [{'system': 'http://fhir.mimic.mit.edu/CodeSystem/diagnosis-icd9', 'code': '49390', 'display': 'Asthma, unspecified type, unspecified'}]}, 'subject': {'reference': 'Patient/b410dd44-7d65-56f9-974f-2751e8aa80e2'}, 'encounter': {'reference': 'Encounter/b205a31d-3330-5c8e-b5d6-e3d2421a6079'}, 'start_time': 5426582400}, {'resourceType': 'Condition', 'id': '0902274b-ec69-54ea-9766-fc5d23b19cf9', 'meta': {'versionId': '1', 'lastUpdated': '2022-05-24T15:51:35.263-04:00', 'source': '#CexDBHtjfcg8Ti57', 'profile': ['http://fhir.mimic.mit.edu/StructureDefinition/mimic-condition']}, 'identifier': [{'system': 'http://fhir.mimic.mit.edu/identifier/condition', 'value': '23251352-7-2724'}], 'category': [{'coding': [{'system': 'http://terminology.hl7.org/CodeSystem/condition-category', 'code': 'encounter-diagnosis'}]}], 'code': {'coding': [{'system': 'http://fhir.mimic.mit.edu/CodeSystem/diagnosis-icd9', 'code': '2724', 'display': 'Other and unspecified hyperlipidemia'}]}, 'subject': {'reference': 'Patient/b410dd44-7d65-56f9-974f-2751e8aa80e2'}, 'encounter': {'reference': 'Encounter/b205a31d-3330-5c8e-b5d6-e3d2421a6079'}, 'start_time': 5426582400}, {'resourceType': 'Condition', 'id': '0a1294f0-709b-55f3-8f63-c5671649f275', 'meta': {'versionId': '1', 'lastUpdated': '2022-05-24T15:51:35.263-04:00', 'source': '#CexDBHtjfcg8Ti57', 'profile': ['http://fhir.mimic.mit.edu/StructureDefinition/mimic-condition']}, 'identifier': [{'system': 'http://fhir.mimic.mit.edu/identifier/condition', 'value': '21216581-8-V5866'}], 'category': [{'coding': [{'system': 'http://terminology.hl7.org/CodeSystem/condition-category', 'code': 'encounter-diagnosis'}]}], 'code': {'coding': [{'system': 'http://fhir.mimic.mit.edu/CodeSystem/diagnosis-icd9', 'code': 'V5866', 'display': 'Long-term (current) use of aspirin'}]}, 'subject': {'reference': 'Patient/b410dd44-7d65-56f9-974f-2751e8aa80e2'}, 'encounter': {'reference': 'Encounter/1f9c4560-e98f-55ea-815f-0c1a0f7a5ae7'}, 'start_time': 5465203800}, {'resourceType': 'Condition', 'id': '0cb4a2a1-a79f-50a2-87d7-7157ab5426d8', 'meta': {'versionId': '1', 'lastUpdated': '2022-05-24T15:51:35.263-04:00', 'source': '#CexDBHtjfcg8Ti57', 'profile': ['http://fhir.mimic.mit.edu/StructureDefinition/mimic-condition']}, 'identifier': [{'system': 'http://fhir.mimic.mit.edu/identifier/condition', 'value': '28108313-10-G4733'}], 'category': [{'coding': [{'system': 'http://terminology.hl7.org/CodeSystem/condition-category', 'code': 'encounter-diagnosis'}]}], 'code': {'coding': [{'system': 'http://fhir.mimic.mit.edu/CodeSystem/diagnosis-icd10', 'code': 'G4733', 'display': 'Obstructive sleep apnea (adult) (pediatric)'}]}, 'subject': {'reference': 'Patient/b410dd44-7d65-56f9-974f-2751e8aa80e2'}, 'encounter': {'reference': 'Encounter/ca52755d-7780-524a-a5f8-6c5d2fc2136a'}, 'start_time': 5616018000}, {'resourceType': 'Condition', 'id': '0ff62b6e-98da-53a0-9705-5d8dd5d4c149', 'meta': {'versionId': '1', 'lastUpdated': '2022-05-24T15:51:35.263-04:00', 'source': '#CexDBHtjfcg8Ti57', 'profile': ['http://fhir.mimic.mit.edu/StructureDefinition/mimic-condition']}, 'identifier': [{'system': 'http://fhir.mimic.mit.edu/identifier/condition', 'value': '23251352-8-V8741'}], 'category': [{'coding': [{'system': 'http://terminology.hl7.org/CodeSystem/condition-category', 'code': 'encounter-diagnosis'}]}], 'code': {'coding': [{'system': 'http://fhir.mimic.mit.edu/CodeSystem/diagnosis-icd9', 'code': 'V8741', 'display': 'Personal history of antineoplastic chemotherapy'}]}, 'subject': {'reference': 'Patient/b410dd44-7d65-56f9-974f-2751e8aa80e2'}, 'encounter': {'reference': 'Encounter/b205a31d-3330-5c8e-b5d6-e3d2421a6079'}, 'start_time': 5426582400}, {'resourceType': 'Condition', 'id': '184ea700-6120-53c9-96c9-817fc83b9bff', 'meta': {'versionId': '1', 'lastUpdated': '2022-05-24T15:51:35.263-04:00', 'source': '#CexDBHtjfcg8Ti57', 'profile': ['http://fhir.mimic.mit.edu/StructureDefinition/mimic-condition']}, 'identifier': [{'system': 'http://fhir.mimic.mit.edu/identifier/condition', 'value': '25559382-2-Z951'}], 'category': [{'coding': [{'system': 'http://terminology.hl7.org/CodeSystem/condition-category', 'code': 'encounter-diagnosis'}]}], 'code': {'coding': [{'system': 'http://fhir.mimic.mit.edu/CodeSystem/diagnosis-icd10', 'code': 'Z951', 'display': 'Presence of aortocoronary bypass graft'}]}, 'subject': {'reference': 'Patient/b410dd44-7d65-56f9-974f-2751e8aa80e2'}, 'encounter': {'reference': 'Encounter/51a1032b-2850-5ba5-a662-74a6a988cb9e'}, 'start_time': 5639393940}, {'resourceType': 'Condition', 'id': '1ba105ad-72ef-594f-aa78-0fa6fd603ed8', 'meta': {'versionId': '1', 'lastUpdated': '2022-05-24T15:51:35.263-04:00', 'source': '#CexDBHtjfcg8Ti57', 'profile': ['http://fhir.mimic.mit.edu/StructureDefinition/mimic-condition']}, 'identifier': [{'system': 'http://fhir.mimic.mit.edu/identifier/condition', 'value': '21039249-5-V1046'}], 'category': [{'coding': [{'system': 'http://terminology.hl7.org/CodeSystem/condition-category', 'code': 'encounter-diagnosis'}]}], 'code': {'coding': [{'system': 'http://fhir.mimic.mit.edu/CodeSystem/diagnosis-icd9', 'code': 'V1046', 'display': 'Personal history of malignant neoplasm of prostate'}]}, 'subject': {'reference': 'Patient/b410dd44-7d65-56f9-974f-2751e8aa80e2'}, 'encounter': {'reference': 'Encounter/50437dde-70e1-5b84-b35d-ed4bbd41246e'}, 'start_time': 5387190060}, {'resourceType': 'Condition', 'id': '1edd8c39-b819-5593-8b4b-25e69b121b6d', 'meta': {'versionId': '1', 'lastUpdated': '2022-05-24T15:51:35.263-04:00', 'source': '#CexDBHtjfcg8Ti57', 'profile': ['http://fhir.mimic.mit.edu/StructureDefinition/mimic-condition']}, 'identifier': [{'system': 'http://fhir.mimic.mit.edu/identifier/condition', 'value': '28108313-2-I2510'}], 'category': [{'coding': [{'system': 'http://terminology.hl7.org/CodeSystem/condition-category', 'code': 'encounter-diagnosis'}]}], 'code': {'coding': [{'system': 'http://fhir.mimic.mit.edu/CodeSystem/diagnosis-icd10', 'code': 'I2510', 'display': 'Atherosclerotic heart disease of native coronary artery without angina pectoris'}]}, 'subject': {'reference': 'Patient/b410dd44-7d65-56f9-974f-2751e8aa80e2'}, 'encounter': {'reference': 'Encounter/ca52755d-7780-524a-a5f8-6c5d2fc2136a'}, 'start_time': 5616018000}, {'resourceType': 'Condition', 'id': '1f5a5a6f-395d-566b-a4b7-58310367918d', 'meta': {'versionId': '1', 'lastUpdated': '2022-05-24T15:51:35.263-04:00', 'source': '#CexDBHtjfcg8Ti57', 'profile': ['http://fhir.mimic.mit.edu/StructureDefinition/mimic-condition']}, 'identifier': [{'system': 'http://fhir.mimic.mit.edu/identifier/condition', 'value': '28108313-1-I6521'}], 'category': [{'coding': [{'system': 'http://terminology.hl7.org/CodeSystem/condition-category', 'code': 'encounter-diagnosis'}]}], 'code': {'coding': [{'system': 'http://fhir.mimic.mit.edu/CodeSystem/diagnosis-icd10', 'code': 'I6521', 'display': 'Occlusion and stenosis of right carotid artery'}]}, 'subject': {'reference': 'Patient/b410dd44-7d65-56f9-974f-2751e8aa80e2'}, 'encounter': {'reference': 'Encounter/ca52755d-7780-524a-a5f8-6c5d2fc2136a'}, 'start_time': 5616018000}, {'resourceType': 'Condition', 'id': '251c0afc-a497-5fcf-b23d-30eca9d98eb8', 'meta': {'versionId': '1', 'lastUpdated': '2022-05-24T15:51:35.263-04:00', 'source': '#CexDBHtjfcg8Ti57', 'profile': ['http://fhir.mimic.mit.edu/StructureDefinition/mimic-condition']}, 'identifier': [{'system': 'http://fhir.mimic.mit.edu/identifier/condition', 'value': '25559382-5-I5022'}], 'category': [{'coding': [{'system': 'http://terminology.hl7.org/CodeSystem/condition-category', 'code': 'encounter-diagnosis'}]}], 'code': {'coding': [{'system': 'http://fhir.mimic.mit.edu/CodeSystem/diagnosis-icd10', 'code': 'I5022', 'display': 'Chronic systolic (congestive) heart failure'}]}, 'subject': {'reference': 'Patient/b410dd44-7d65-56f9-974f-2751e8aa80e2'}, 'encounter': {'reference': 'Encounter/51a1032b-2850-5ba5-a662-74a6a988cb9e'}, 'start_time': 5639393940}, {'resourceType': 'Condition', 'id': '264a97a4-039a-57da-8bd2-4b6ae54ec4bf', 'meta': {'versionId': '1', 'lastUpdated': '2022-05-24T15:51:35.263-04:00', 'source': '#CexDBHtjfcg8Ti57', 'profile': ['http://fhir.mimic.mit.edu/StructureDefinition/mimic-condition']}, 'identifier': [{'system': 'http://fhir.mimic.mit.edu/identifier/condition', 'value': '25559382-12-I6522'}], 'category': [{'coding': [{'system': 'http://terminology.hl7.org/CodeSystem/condition-category', 'code': 'encounter-diagnosis'}]}], 'code': {'coding': [{'system': 'http://fhir.mimic.mit.edu/CodeSystem/diagnosis-icd10', 'code': 'I6522', 'display': 'Occlusion and stenosis of left carotid artery'}]}, 'subject': {'reference': 'Patient/b410dd44-7d65-56f9-974f-2751e8aa80e2'}, 'encounter': {'reference': 'Encounter/51a1032b-2850-5ba5-a662-74a6a988cb9e'}, 'start_time': 5639393940}, {'resourceType': 'Condition', 'id': '288d239d-4b83-5166-aa62-d0496fcdaf21', 'meta': {'versionId': '1', 'lastUpdated': '2022-05-24T15:51:35.263-04:00', 'source': '#CexDBHtjfcg8Ti57', 'profile': ['http://fhir.mimic.mit.edu/StructureDefinition/mimic-condition']}, 'identifier': [{'system': 'http://fhir.mimic.mit.edu/identifier/condition', 'value': '28723315-2-41401'}], 'category': [{'coding': [{'system': 'http://terminology.hl7.org/CodeSystem/condition-category', 'code': 'encounter-diagnosis'}]}], 'code': {'coding': [{'system': 'http://fhir.mimic.mit.edu/CodeSystem/diagnosis-icd9', 'code': '41401', 'display': 'Coronary atherosclerosis of native coronary artery'}]}, 'subject': {'reference': 'Patient/b410dd44-7d65-56f9-974f-2751e8aa80e2'}, 'encounter': {'reference': 'Encounter/f0ce593b-471a-50a0-b62a-4d2c0ef3c0cb'}, 'start_time': 5415624120}, {'resourceType': 'Condition', 'id': '2dc5cd91-f1f2-56f5-ac1a-509f6dbf60ad', 'meta': {'versionId': '1', 'lastUpdated': '2022-05-24T15:51:35.263-04:00', 'source': '#CexDBHtjfcg8Ti57', 'profile': ['http://fhir.mimic.mit.edu/StructureDefinition/mimic-condition']}, 'identifier': [{'system': 'http://fhir.mimic.mit.edu/identifier/condition', 'value': '21039249-8-V8741'}], 'category': [{'coding': [{'system': 'http://terminology.hl7.org/CodeSystem/condition-category', 'code': 'encounter-diagnosis'}]}], 'code': {'coding': [{'system': 'http://fhir.mimic.mit.edu/CodeSystem/diagnosis-icd9', 'code': 'V8741', 'display': 'Personal history of antineoplastic chemotherapy'}]}, 'subject': {'reference': 'Patient/b410dd44-7d65-56f9-974f-2751e8aa80e2'}, 'encounter': {'reference': 'Encounter/50437dde-70e1-5b84-b35d-ed4bbd41246e'}, 'start_time': 5387190060}, {'resourceType': 'Condition', 'id': '2e0e2511-c69c-50e6-b26a-17c6de3506de', 'meta': {'versionId': '1', 'lastUpdated': '2022-05-24T15:51:35.263-04:00', 'source': '#CexDBHtjfcg8Ti57', 'profile': ['http://fhir.mimic.mit.edu/StructureDefinition/mimic-condition']}, 'identifier': [{'system': 'http://fhir.mimic.mit.edu/identifier/condition', 'value': '23251352-5-V1046'}], 'category': [{'coding': [{'system': 'http://terminology.hl7.org/CodeSystem/condition-category', 'code': 'encounter-diagnosis'}]}], 'code': {'coding': [{'system': 'http://fhir.mimic.mit.edu/CodeSystem/diagnosis-icd9', 'code': 'V1046', 'display': 'Personal history of malignant neoplasm of prostate'}]}, 'subject': {'reference': 'Patient/b410dd44-7d65-56f9-974f-2751e8aa80e2'}, 'encounter': {'reference': 'Encounter/b205a31d-3330-5c8e-b5d6-e3d2421a6079'}, 'start_time': 5426582400}, {'resourceType': 'Condition', 'id': '2e2e82ce-ba37-5d36-a1a0-3d0063572164', 'meta': {'versionId': '1', 'lastUpdated': '2022-05-24T15:51:35.263-04:00', 'source': '#CexDBHtjfcg8Ti57', 'profile': ['http://fhir.mimic.mit.edu/StructureDefinition/mimic-condition']}, 'identifier': [{'system': 'http://fhir.mimic.mit.edu/identifier/condition', 'value': '25559382-13-Z952'}], 'category': [{'coding': [{'system': 'http://terminology.hl7.org/CodeSystem/condition-category', 'code': 'encounter-diagnosis'}]}], 'code': {'coding': [{'system': 'http://fhir.mimic.mit.edu/CodeSystem/diagnosis-icd10', 'code': 'Z952', 'display': 'Presence of prosthetic heart valve'}]}, 'subject': {'reference': 'Patient/b410dd44-7d65-56f9-974f-2751e8aa80e2'}, 'encounter': {'reference': 'Encounter/51a1032b-2850-5ba5-a662-74a6a988cb9e'}, 'start_time': 5639393940}, {'resourceType': 'Condition', 'id': '3359bd4a-19d2-5d14-a277-3e8c1a5ec07f', 'meta': {'versionId': '1', 'lastUpdated': '2022-05-24T15:51:35.263-04:00', 'source': '#CexDBHtjfcg8Ti57', 'profile': ['http://fhir.mimic.mit.edu/StructureDefinition/mimic-condition']}, 'identifier': [{'system': 'http://fhir.mimic.mit.edu/identifier/condition', 'value': '28108313-6-E785'}], 'category': [{'coding': [{'system': 'http://terminology.hl7.org/CodeSystem/condition-category', 'code': 'encounter-diagnosis'}]}], 'code': {'coding': [{'system': 'http://fhir.mimic.mit.edu/CodeSystem/diagnosis-icd10', 'code': 'E785', 'display': 'Hyperlipidemia, unspecified'}]}, 'subject': {'reference': 'Patient/b410dd44-7d65-56f9-974f-2751e8aa80e2'}, 'encounter': {'reference': 'Encounter/ca52755d-7780-524a-a5f8-6c5d2fc2136a'}, 'start_time': 5616018000}, {'resourceType': 'Condition', 'id': '369181e9-1e74-5140-bf4c-80926b25a664', 'meta': {'versionId': '1', 'lastUpdated': '2022-05-24T15:51:35.263-04:00', 'source': '#CexDBHtjfcg8Ti57', 'profile': ['http://fhir.mimic.mit.edu/StructureDefinition/mimic-condition']}, 'identifier': [{'system': 'http://fhir.mimic.mit.edu/identifier/condition', 'value': '28723315-1-4241'}], 'category': [{'coding': [{'system': 'http://terminology.hl7.org/CodeSystem/condition-category', 'code': 'encounter-diagnosis'}]}], 'code': {'coding': [{'system': 'http://fhir.mimic.mit.edu/CodeSystem/diagnosis-icd9', 'code': '4241', 'display': 'Aortic valve disorders'}]}, 'subject': {'reference': 'Patient/b410dd44-7d65-56f9-974f-2751e8aa80e2'}, 'encounter': {'reference': 'Encounter/f0ce593b-471a-50a0-b62a-4d2c0ef3c0cb'}, 'start_time': 5415624120}, {'resourceType': 'Condition', 'id': '3dcf9e39-12d6-56b6-84be-933c0c30c665', 'meta': {'versionId': '1', 'lastUpdated': '2022-05-24T15:51:35.263-04:00', 'source': '#CexDBHtjfcg8Ti57', 'profile': ['http://fhir.mimic.mit.edu/StructureDefinition/mimic-condition']}, 'identifier': [{'system': 'http://fhir.mimic.mit.edu/identifier/condition', 'value': '21039249-7-V153'}], 'category': [{'coding': [{'system': 'http://terminology.hl7.org/CodeSystem/condition-category', 'code': 'encounter-diagnosis'}]}], 'code': {'coding': [{'system': 'http://fhir.mimic.mit.edu/CodeSystem/diagnosis-icd9', 'code': 'V153', 'display': 'Personal history of irradiation, presenting hazards to health'}]}, 'subject': {'reference': 'Patient/b410dd44-7d65-56f9-974f-2751e8aa80e2'}, 'encounter': {'reference': 'Encounter/50437dde-70e1-5b84-b35d-ed4bbd41246e'}, 'start_time': 5387190060}, {'resourceType': 'Condition', 'id': '4051949f-088b-5ffe-9006-87f7060a5b7e', 'meta': {'versionId': '1', 'lastUpdated': '2022-05-24T15:51:35.263-04:00', 'source': '#CexDBHtjfcg8Ti57', 'profile': ['http://fhir.mimic.mit.edu/StructureDefinition/mimic-condition']}, 'identifier': [{'system': 'http://fhir.mimic.mit.edu/identifier/condition', 'value': '28108313-9-Z952'}], 'category': [{'coding': [{'system': 'http://terminology.hl7.org/CodeSystem/condition-category', 'code': 'encounter-diagnosis'}]}], 'code': {'coding': [{'system': 'http://fhir.mimic.mit.edu/CodeSystem/diagnosis-icd10', 'code': 'Z952', 'display': 'Presence of prosthetic heart valve'}]}, 'subject': {'reference': 'Patient/b410dd44-7d65-56f9-974f-2751e8aa80e2'}, 'encounter': {'reference': 'Encounter/ca52755d-7780-524a-a5f8-6c5d2fc2136a'}, 'start_time': 5616018000}, {'resourceType': 'Condition', 'id': '407c2157-c207-50dc-9cba-1d232f1d342c', 'meta': {'versionId': '1', 'lastUpdated': '2022-05-24T15:51:35.263-04:00', 'source': '#CexDBHtjfcg8Ti57', 'profile': ['http://fhir.mimic.mit.edu/StructureDefinition/mimic-condition']}, 'identifier': [{'system': 'http://fhir.mimic.mit.edu/identifier/condition', 'value': '21216581-4-V1254'}], 'category': [{'coding': [{'system': 'http://terminology.hl7.org/CodeSystem/condition-category', 'code': 'encounter-diagnosis'}]}], 'code': {'coding': [{'system': 'http://fhir.mimic.mit.edu/CodeSystem/diagnosis-icd9', 'code': 'V1254', 'display': 'Personal history of transient ischemic attack (TIA), and cerebral infarction without residual deficits'}]}, 'subject': {'reference': 'Patient/b410dd44-7d65-56f9-974f-2751e8aa80e2'}, 'encounter': {'reference': 'Encounter/1f9c4560-e98f-55ea-815f-0c1a0f7a5ae7'}, 'start_time': 5465203800}, {'resourceType': 'Condition', 'id': '41afdedb-79c1-51f0-9b25-e71ce5c1c986', 'meta': {'versionId': '1', 'lastUpdated': '2022-05-24T15:51:35.263-04:00', 'source': '#CexDBHtjfcg8Ti57', 'profile': ['http://fhir.mimic.mit.edu/StructureDefinition/mimic-condition']}, 'identifier': [{'system': 'http://fhir.mimic.mit.edu/identifier/condition', 'value': '28723315-13-V4986'}], 'category': [{'coding': [{'system': 'http://terminology.hl7.org/CodeSystem/condition-category', 'code': 'encounter-diagnosis'}]}], 'code': {'coding': [{'system': 'http://fhir.mimic.mit.edu/CodeSystem/diagnosis-icd9', 'code': 'V4986', 'display': 'Do not resuscitate status'}]}, 'subject': {'reference': 'Patient/b410dd44-7d65-56f9-974f-2751e8aa80e2'}, 'encounter': {'reference': 'Encounter/f0ce593b-471a-50a0-b62a-4d2c0ef3c0cb'}, 'start_time': 5415624120}, {'resourceType': 'Condition', 'id': '4ca4c38a-c5e9-5465-bc41-2e57cffd5735', 'meta': {'versionId': '1', 'lastUpdated': '2022-05-24T15:51:35.263-04:00', 'source': '#CexDBHtjfcg8Ti57', 'profile': ['http://fhir.mimic.mit.edu/StructureDefinition/mimic-condition']}, 'identifier': [{'system': 'http://fhir.mimic.mit.edu/identifier/condition', 'value': '25559382-14-Z8571'}], 'category': [{'coding': [{'system': 'http://terminology.hl7.org/CodeSystem/condition-category', 'code': 'encounter-diagnosis'}]}], 'code': {'coding': [{'system': 'http://fhir.mimic.mit.edu/CodeSystem/diagnosis-icd10', 'code': 'Z8571', 'display': 'Personal history of Hodgkin lymphoma'}]}, 'subject': {'reference': 'Patient/b410dd44-7d65-56f9-974f-2751e8aa80e2'}, 'encounter': {'reference': 'Encounter/51a1032b-2850-5ba5-a662-74a6a988cb9e'}, 'start_time': 5639393940}, {'resourceType': 'Condition', 'id': '5062d4d7-4ddf-5a55-aea1-d7a41488f502', 'meta': {'versionId': '1', 'lastUpdated': '2022-05-24T15:51:35.263-04:00', 'source': '#CexDBHtjfcg8Ti57', 'profile': ['http://fhir.mimic.mit.edu/StructureDefinition/mimic-condition']}, 'identifier': [{'system': 'http://fhir.mimic.mit.edu/identifier/condition', 'value': '23251352-10-V1582'}], 'category': [{'coding': [{'system': 'http://terminology.hl7.org/CodeSystem/condition-category', 'code': 'encounter-diagnosis'}]}], 'code': {'coding': [{'system': 'http://fhir.mimic.mit.edu/CodeSystem/diagnosis-icd9', 'code': 'V1582', 'display': 'Personal history of tobacco use'}]}, 'subject': {'reference': 'Patient/b410dd44-7d65-56f9-974f-2751e8aa80e2'}, 'encounter': {'reference': 'Encounter/b205a31d-3330-5c8e-b5d6-e3d2421a6079'}, 'start_time': 5426582400}, {'resourceType': 'Condition', 'id': '51c5dc90-1e77-5e10-8b56-49da8f98bb91', 'meta': {'versionId': '1', 'lastUpdated': '2022-05-24T15:51:35.263-04:00', 'source': '#CexDBHtjfcg8Ti57', 'profile': ['http://fhir.mimic.mit.edu/StructureDefinition/mimic-condition']}, 'identifier': [{'system': 'http://fhir.mimic.mit.edu/identifier/condition', 'value': '21216581-10-V422'}], 'category': [{'coding': [{'system': 'http://terminology.hl7.org/CodeSystem/condition-category', 'code': 'encounter-diagnosis'}]}], 'code': {'coding': [{'system': 'http://fhir.mimic.mit.edu/CodeSystem/diagnosis-icd9', 'code': 'V422', 'display': 'Heart valve replaced by transplant'}]}, 'subject': {'reference': 'Patient/b410dd44-7d65-56f9-974f-2751e8aa80e2'}, 'encounter': {'reference': 'Encounter/1f9c4560-e98f-55ea-815f-0c1a0f7a5ae7'}, 'start_time': 5465203800}, {'resourceType': 'Condition', 'id': '53181c0d-3b89-5f24-ae91-170c66cbd4ae', 'meta': {'versionId': '1', 'lastUpdated': '2022-05-24T15:51:35.263-04:00', 'source': '#CexDBHtjfcg8Ti57', 'profile': ['http://fhir.mimic.mit.edu/StructureDefinition/mimic-condition']}, 'identifier': [{'system': 'http://fhir.mimic.mit.edu/identifier/condition', 'value': '28723315-6-V1046'}], 'category': [{'coding': [{'system': 'http://terminology.hl7.org/CodeSystem/condition-category', 'code': 'encounter-diagnosis'}]}], 'code': {'coding': [{'system': 'http://fhir.mimic.mit.edu/CodeSystem/diagnosis-icd9', 'code': 'V1046', 'display': 'Personal history of malignant neoplasm of prostate'}]}, 'subject': {'reference': 'Patient/b410dd44-7d65-56f9-974f-2751e8aa80e2'}, 'encounter': {'reference': 'Encounter/f0ce593b-471a-50a0-b62a-4d2c0ef3c0cb'}, 'start_time': 5415624120}, {'resourceType': 'Condition', 'id': '5538284a-0a21-5ee3-93dd-44e32f871204', 'meta': {'versionId': '1', 'lastUpdated': '2022-05-24T15:51:35.263-04:00', 'source': '#CexDBHtjfcg8Ti57', 'profile': ['http://fhir.mimic.mit.edu/StructureDefinition/mimic-condition']}, 'identifier': [{'system': 'http://fhir.mimic.mit.edu/identifier/condition', 'value': '25559382-3-Z955'}], 'category': [{'coding': [{'system': 'http://terminology.hl7.org/CodeSystem/condition-category', 'code': 'encounter-diagnosis'}]}], 'code': {'coding': [{'system': 'http://fhir.mimic.mit.edu/CodeSystem/diagnosis-icd10', 'code': 'Z955', 'display': 'Presence of coronary angioplasty implant and graft'}]}, 'subject': {'reference': 'Patient/b410dd44-7d65-56f9-974f-2751e8aa80e2'}, 'encounter': {'reference': 'Encounter/51a1032b-2850-5ba5-a662-74a6a988cb9e'}, 'start_time': 5639393940}, {'resourceType': 'Condition', 'id': '57d99e23-cffc-5758-b494-d9c4145f7c49', 'meta': {'versionId': '1', 'lastUpdated': '2022-05-24T15:51:35.263-04:00', 'source': '#CexDBHtjfcg8Ti57', 'profile': ['http://fhir.mimic.mit.edu/StructureDefinition/mimic-condition']}, 'identifier': [{'system': 'http://fhir.mimic.mit.edu/identifier/condition', 'value': '28723315-7-V1079'}], 'category': [{'coding': [{'system': 'http://terminology.hl7.org/CodeSystem/condition-category', 'code': 'encounter-diagnosis'}]}], 'code': {'coding': [{'system': 'http://fhir.mimic.mit.edu/CodeSystem/diagnosis-icd9', 'code': 'V1079', 'display': 'Personal history of other lymphatic and hematopoietic neoplasms'}]}, 'subject': {'reference': 'Patient/b410dd44-7d65-56f9-974f-2751e8aa80e2'}, 'encounter': {'reference': 'Encounter/f0ce593b-471a-50a0-b62a-4d2c0ef3c0cb'}, 'start_time': 5415624120}, {'resourceType': 'Condition', 'id': '5daec0bd-c695-55fc-be81-7164f73a7fd5', 'meta': {'versionId': '1', 'lastUpdated': '2022-05-24T15:51:35.263-04:00', 'source': '#CexDBHtjfcg8Ti57', 'profile': ['http://fhir.mimic.mit.edu/StructureDefinition/mimic-condition']}, 'identifier': [{'system': 'http://fhir.mimic.mit.edu/identifier/condition', 'value': '28108313-3-Z955'}], 'category': [{'coding': [{'system': 'http://terminology.hl7.org/CodeSystem/condition-category', 'code': 'encounter-diagnosis'}]}], 'code': {'coding': [{'system': 'http://fhir.mimic.mit.edu/CodeSystem/diagnosis-icd10', 'code': 'Z955', 'display': 'Presence of coronary angioplasty implant and graft'}]}, 'subject': {'reference': 'Patient/b410dd44-7d65-56f9-974f-2751e8aa80e2'}, 'encounter': {'reference': 'Encounter/ca52755d-7780-524a-a5f8-6c5d2fc2136a'}, 'start_time': 5616018000}, {'resourceType': 'Condition', 'id': '5ea6763b-40af-5d96-9aa1-90fa02478ba2', 'meta': {'versionId': '1', 'lastUpdated': '2022-05-24T15:51:35.263-04:00', 'source': '#CexDBHtjfcg8Ti57', 'profile': ['http://fhir.mimic.mit.edu/StructureDefinition/mimic-condition']}, 'identifier': [{'system': 'http://fhir.mimic.mit.edu/identifier/condition', 'value': '25559382-9-R21'}], 'category': [{'coding': [{'system': 'http://terminology.hl7.org/CodeSystem/condition-category', 'code': 'encounter-diagnosis'}]}], 'code': {'coding': [{'system': 'http://fhir.mimic.mit.edu/CodeSystem/diagnosis-icd10', 'code': 'R21', 'display': 'Rash and other nonspecific skin eruption'}]}, 'subject': {'reference': 'Patient/b410dd44-7d65-56f9-974f-2751e8aa80e2'}, 'encounter': {'reference': 'Encounter/51a1032b-2850-5ba5-a662-74a6a988cb9e'}, 'start_time': 5639393940}, {'resourceType': 'Condition', 'id': '5f0aca72-a251-5d29-ae7b-458875bf059d', 'meta': {'versionId': '1', 'lastUpdated': '2022-05-24T15:51:35.263-04:00', 'source': '#CexDBHtjfcg8Ti57', 'profile': ['http://fhir.mimic.mit.edu/StructureDefinition/mimic-condition']}, 'identifier': [{'system': 'http://fhir.mimic.mit.edu/identifier/condition', 'value': '21216581-3-20190'}], 'category': [{'coding': [{'system': 'http://terminology.hl7.org/CodeSystem/condition-category', 'code': 'encounter-diagnosis'}]}], 'code': {'coding': [{'system': 'http://fhir.mimic.mit.edu/CodeSystem/diagnosis-icd9', 'code': '20190', 'display': \"Hodgkin's disease, unspecified type, unspecified site, extranodal and solid organ sites\"}]}, 'subject': {'reference': 'Patient/b410dd44-7d65-56f9-974f-2751e8aa80e2'}, 'encounter': {'reference': 'Encounter/1f9c4560-e98f-55ea-815f-0c1a0f7a5ae7'}, 'start_time': 5465203800}, {'resourceType': 'Condition', 'id': '654e9359-9387-5a2c-88d2-5d13f1f56819', 'meta': {'versionId': '1', 'lastUpdated': '2022-05-24T15:51:35.263-04:00', 'source': '#CexDBHtjfcg8Ti57', 'profile': ['http://fhir.mimic.mit.edu/StructureDefinition/mimic-condition']}, 'identifier': [{'system': 'http://fhir.mimic.mit.edu/identifier/condition', 'value': '25559382-7-Z8673'}], 'category': [{'coding': [{'system': 'http://terminology.hl7.org/CodeSystem/condition-category', 'code': 'encounter-diagnosis'}]}], 'code': {'coding': [{'system': 'http://fhir.mimic.mit.edu/CodeSystem/diagnosis-icd10', 'code': 'Z8673', 'display': 'Personal history of transient ischemic attack (TIA), and cerebral infarction without residual deficits'}]}, 'subject': {'reference': 'Patient/b410dd44-7d65-56f9-974f-2751e8aa80e2'}, 'encounter': {'reference': 'Encounter/51a1032b-2850-5ba5-a662-74a6a988cb9e'}, 'start_time': 5639393940}, {'resourceType': 'Condition', 'id': '69744339-756b-54d0-bf18-310b143d8842', 'meta': {'versionId': '1', 'lastUpdated': '2022-05-24T15:51:35.263-04:00', 'source': '#CexDBHtjfcg8Ti57', 'profile': ['http://fhir.mimic.mit.edu/StructureDefinition/mimic-condition']}, 'identifier': [{'system': 'http://fhir.mimic.mit.edu/identifier/condition', 'value': '21039249-2-2724'}], 'category': [{'coding': [{'system': 'http://terminology.hl7.org/CodeSystem/condition-category', 'code': 'encounter-diagnosis'}]}], 'code': {'coding': [{'system': 'http://fhir.mimic.mit.edu/CodeSystem/diagnosis-icd9', 'code': '2724', 'display': 'Other and unspecified hyperlipidemia'}]}, 'subject': {'reference': 'Patient/b410dd44-7d65-56f9-974f-2751e8aa80e2'}, 'encounter': {'reference': 'Encounter/50437dde-70e1-5b84-b35d-ed4bbd41246e'}, 'start_time': 5387190060}, {'resourceType': 'Condition', 'id': '6ac3311d-3f0c-5956-a853-22b0b50261bb', 'meta': {'versionId': '1', 'lastUpdated': '2022-05-24T15:51:35.263-04:00', 'source': '#CexDBHtjfcg8Ti57', 'profile': ['http://fhir.mimic.mit.edu/StructureDefinition/mimic-condition']}, 'identifier': [{'system': 'http://fhir.mimic.mit.edu/identifier/condition', 'value': '28723315-12-49390'}], 'category': [{'coding': [{'system': 'http://terminology.hl7.org/CodeSystem/condition-category', 'code': 'encounter-diagnosis'}]}], 'code': {'coding': [{'system': 'http://fhir.mimic.mit.edu/CodeSystem/diagnosis-icd9', 'code': '49390', 'display': 'Asthma, unspecified type, unspecified'}]}, 'subject': {'reference': 'Patient/b410dd44-7d65-56f9-974f-2751e8aa80e2'}, 'encounter': {'reference': 'Encounter/f0ce593b-471a-50a0-b62a-4d2c0ef3c0cb'}, 'start_time': 5415624120}, {'resourceType': 'Condition', 'id': '6bae93d6-f82f-5b6a-9ce8-8dcb5681712c', 'meta': {'versionId': '1', 'lastUpdated': '2022-05-24T15:51:35.263-04:00', 'source': '#CexDBHtjfcg8Ti57', 'profile': ['http://fhir.mimic.mit.edu/StructureDefinition/mimic-condition']}, 'identifier': [{'system': 'http://fhir.mimic.mit.edu/identifier/condition', 'value': '28723315-8-V4577'}], 'category': [{'coding': [{'system': 'http://terminology.hl7.org/CodeSystem/condition-category', 'code': 'encounter-diagnosis'}]}], 'code': {'coding': [{'system': 'http://fhir.mimic.mit.edu/CodeSystem/diagnosis-icd9', 'code': 'V4577', 'display': 'Acquired absence of organ, genital organs'}]}, 'subject': {'reference': 'Patient/b410dd44-7d65-56f9-974f-2751e8aa80e2'}, 'encounter': {'reference': 'Encounter/f0ce593b-471a-50a0-b62a-4d2c0ef3c0cb'}, 'start_time': 5415624120}, {'resourceType': 'Condition', 'id': '6c574cda-4289-5f13-975a-81cc1772e91c', 'meta': {'versionId': '1', 'lastUpdated': '2022-05-24T15:51:35.263-04:00', 'source': '#CexDBHtjfcg8Ti57', 'profile': ['http://fhir.mimic.mit.edu/StructureDefinition/mimic-condition']}, 'identifier': [{'system': 'http://fhir.mimic.mit.edu/identifier/condition', 'value': '21216581-5-V4581'}], 'category': [{'coding': [{'system': 'http://terminology.hl7.org/CodeSystem/condition-category', 'code': 'encounter-diagnosis'}]}], 'code': {'coding': [{'system': 'http://fhir.mimic.mit.edu/CodeSystem/diagnosis-icd9', 'code': 'V4581', 'display': 'Aortocoronary bypass status'}]}, 'subject': {'reference': 'Patient/b410dd44-7d65-56f9-974f-2751e8aa80e2'}, 'encounter': {'reference': 'Encounter/1f9c4560-e98f-55ea-815f-0c1a0f7a5ae7'}, 'start_time': 5465203800}, {'resourceType': 'Condition', 'id': '6f6c283c-0b97-56eb-b6e9-32c99e974ae3', 'meta': {'versionId': '1', 'lastUpdated': '2022-05-24T15:51:35.263-04:00', 'source': '#CexDBHtjfcg8Ti57', 'profile': ['http://fhir.mimic.mit.edu/StructureDefinition/mimic-condition']}, 'identifier': [{'system': 'http://fhir.mimic.mit.edu/identifier/condition', 'value': '28723315-10-V8741'}], 'category': [{'coding': [{'system': 'http://terminology.hl7.org/CodeSystem/condition-category', 'code': 'encounter-diagnosis'}]}], 'code': {'coding': [{'system': 'http://fhir.mimic.mit.edu/CodeSystem/diagnosis-icd9', 'code': 'V8741', 'display': 'Personal history of antineoplastic chemotherapy'}]}, 'subject': {'reference': 'Patient/b410dd44-7d65-56f9-974f-2751e8aa80e2'}, 'encounter': {'reference': 'Encounter/f0ce593b-471a-50a0-b62a-4d2c0ef3c0cb'}, 'start_time': 5415624120}, {'resourceType': 'Condition', 'id': '738ee33f-0f7a-570a-819e-0128ae4caff4', 'meta': {'versionId': '1', 'lastUpdated': '2022-05-24T15:51:35.263-04:00', 'source': '#CexDBHtjfcg8Ti57', 'profile': ['http://fhir.mimic.mit.edu/StructureDefinition/mimic-condition']}, 'identifier': [{'system': 'http://fhir.mimic.mit.edu/identifier/condition', 'value': '28723315-4-2749'}], 'category': [{'coding': [{'system': 'http://terminology.hl7.org/CodeSystem/condition-category', 'code': 'encounter-diagnosis'}]}], 'code': {'coding': [{'system': 'http://fhir.mimic.mit.edu/CodeSystem/diagnosis-icd9', 'code': '2749', 'display': 'Gout, unspecified'}]}, 'subject': {'reference': 'Patient/b410dd44-7d65-56f9-974f-2751e8aa80e2'}, 'encounter': {'reference': 'Encounter/f0ce593b-471a-50a0-b62a-4d2c0ef3c0cb'}, 'start_time': 5415624120}, {'resourceType': 'Condition', 'id': '77ca7fe7-49fd-51b8-97d6-30c429f95a50', 'meta': {'versionId': '1', 'lastUpdated': '2022-05-24T15:51:35.263-04:00', 'source': '#CexDBHtjfcg8Ti57', 'profile': ['http://fhir.mimic.mit.edu/StructureDefinition/mimic-condition']}, 'identifier': [{'system': 'http://fhir.mimic.mit.edu/identifier/condition', 'value': '28108313-7-Z951'}], 'category': [{'coding': [{'system': 'http://terminology.hl7.org/CodeSystem/condition-category', 'code': 'encounter-diagnosis'}]}], 'code': {'coding': [{'system': 'http://fhir.mimic.mit.edu/CodeSystem/diagnosis-icd10', 'code': 'Z951', 'display': 'Presence of aortocoronary bypass graft'}]}, 'subject': {'reference': 'Patient/b410dd44-7d65-56f9-974f-2751e8aa80e2'}, 'encounter': {'reference': 'Encounter/ca52755d-7780-524a-a5f8-6c5d2fc2136a'}, 'start_time': 5616018000}, {'resourceType': 'Condition', 'id': '78392d15-0bbd-509a-a69d-727f1257e650', 'meta': {'versionId': '1', 'lastUpdated': '2022-05-24T15:51:35.263-04:00', 'source': '#CexDBHtjfcg8Ti57', 'profile': ['http://fhir.mimic.mit.edu/StructureDefinition/mimic-condition']}, 'identifier': [{'system': 'http://fhir.mimic.mit.edu/identifier/condition', 'value': '28108313-8-I081'}], 'category': [{'coding': [{'system': 'http://terminology.hl7.org/CodeSystem/condition-category', 'code': 'encounter-diagnosis'}]}], 'code': {'coding': [{'system': 'http://fhir.mimic.mit.edu/CodeSystem/diagnosis-icd10', 'code': 'I081', 'display': 'Rheumatic disorders of both mitral and tricuspid valves'}]}, 'subject': {'reference': 'Patient/b410dd44-7d65-56f9-974f-2751e8aa80e2'}, 'encounter': {'reference': 'Encounter/ca52755d-7780-524a-a5f8-6c5d2fc2136a'}, 'start_time': 5616018000}, {'resourceType': 'Condition', 'id': '7db93074-0dbf-5878-ae83-71f63c797dfc', 'meta': {'versionId': '1', 'lastUpdated': '2022-05-24T15:51:35.263-04:00', 'source': '#CexDBHtjfcg8Ti57', 'profile': ['http://fhir.mimic.mit.edu/StructureDefinition/mimic-condition']}, 'identifier': [{'system': 'http://fhir.mimic.mit.edu/identifier/condition', 'value': '25559382-6-E785'}], 'category': [{'coding': [{'system': 'http://terminology.hl7.org/CodeSystem/condition-category', 'code': 'encounter-diagnosis'}]}], 'code': {'coding': [{'system': 'http://fhir.mimic.mit.edu/CodeSystem/diagnosis-icd10', 'code': 'E785', 'display': 'Hyperlipidemia, unspecified'}]}, 'subject': {'reference': 'Patient/b410dd44-7d65-56f9-974f-2751e8aa80e2'}, 'encounter': {'reference': 'Encounter/51a1032b-2850-5ba5-a662-74a6a988cb9e'}, 'start_time': 5639393940}, {'resourceType': 'Condition', 'id': '7efd90fc-4549-5799-835f-94c54c026502', 'meta': {'versionId': '1', 'lastUpdated': '2022-05-24T15:51:35.263-04:00', 'source': '#CexDBHtjfcg8Ti57', 'profile': ['http://fhir.mimic.mit.edu/StructureDefinition/mimic-condition']}, 'identifier': [{'system': 'http://fhir.mimic.mit.edu/identifier/condition', 'value': '23251352-2-41401'}], 'category': [{'coding': [{'system': 'http://terminology.hl7.org/CodeSystem/condition-category', 'code': 'encounter-diagnosis'}]}], 'code': {'coding': [{'system': 'http://fhir.mimic.mit.edu/CodeSystem/diagnosis-icd9', 'code': '41401', 'display': 'Coronary atherosclerosis of native coronary artery'}]}, 'subject': {'reference': 'Patient/b410dd44-7d65-56f9-974f-2751e8aa80e2'}, 'encounter': {'reference': 'Encounter/b205a31d-3330-5c8e-b5d6-e3d2421a6079'}, 'start_time': 5426582400}, {'resourceType': 'Condition', 'id': '88b32fc4-6e8d-5676-8a3b-a659c38e10b7', 'meta': {'versionId': '1', 'lastUpdated': '2022-05-24T15:51:35.263-04:00', 'source': '#CexDBHtjfcg8Ti57', 'profile': ['http://fhir.mimic.mit.edu/StructureDefinition/mimic-condition']}, 'identifier': [{'system': 'http://fhir.mimic.mit.edu/identifier/condition', 'value': '21216581-7-V5861'}], 'category': [{'coding': [{'system': 'http://terminology.hl7.org/CodeSystem/condition-category', 'code': 'encounter-diagnosis'}]}], 'code': {'coding': [{'system': 'http://fhir.mimic.mit.edu/CodeSystem/diagnosis-icd9', 'code': 'V5861', 'display': 'Long-term (current) use of anticoagulants'}]}, 'subject': {'reference': 'Patient/b410dd44-7d65-56f9-974f-2751e8aa80e2'}, 'encounter': {'reference': 'Encounter/1f9c4560-e98f-55ea-815f-0c1a0f7a5ae7'}, 'start_time': 5465203800}, {'resourceType': 'Condition', 'id': '8ddf0aa4-1ca0-51fe-b22d-299e4a49f343', 'meta': {'versionId': '1', 'lastUpdated': '2022-05-24T15:51:35.263-04:00', 'source': '#CexDBHtjfcg8Ti57', 'profile': ['http://fhir.mimic.mit.edu/StructureDefinition/mimic-condition']}, 'identifier': [{'system': 'http://fhir.mimic.mit.edu/identifier/condition', 'value': '28723315-11-V4579'}], 'category': [{'coding': [{'system': 'http://terminology.hl7.org/CodeSystem/condition-category', 'code': 'encounter-diagnosis'}]}], 'code': {'coding': [{'system': 'http://fhir.mimic.mit.edu/CodeSystem/diagnosis-icd9', 'code': 'V4579', 'display': 'Other acquired absence of organ'}]}, 'subject': {'reference': 'Patient/b410dd44-7d65-56f9-974f-2751e8aa80e2'}, 'encounter': {'reference': 'Encounter/f0ce593b-471a-50a0-b62a-4d2c0ef3c0cb'}, 'start_time': 5415624120}, {'resourceType': 'Condition', 'id': '929d1c30-0406-5aaa-bcee-63215182f060', 'meta': {'versionId': '1', 'lastUpdated': '2022-05-24T15:51:35.263-04:00', 'source': '#CexDBHtjfcg8Ti57', 'profile': ['http://fhir.mimic.mit.edu/StructureDefinition/mimic-condition']}, 'identifier': [{'system': 'http://fhir.mimic.mit.edu/identifier/condition', 'value': '28723315-3-41189'}], 'category': [{'coding': [{'system': 'http://terminology.hl7.org/CodeSystem/condition-category', 'code': 'encounter-diagnosis'}]}], 'code': {'coding': [{'system': 'http://fhir.mimic.mit.edu/CodeSystem/diagnosis-icd9', 'code': '41189', 'display': 'Other acute and subacute forms of ischemic heart disease, other'}]}, 'subject': {'reference': 'Patient/b410dd44-7d65-56f9-974f-2751e8aa80e2'}, 'encounter': {'reference': 'Encounter/f0ce593b-471a-50a0-b62a-4d2c0ef3c0cb'}, 'start_time': 5415624120}, {'resourceType': 'Condition', 'id': '92a02d66-2093-59ce-a82f-056d0f3b3537', 'meta': {'versionId': '1', 'lastUpdated': '2022-05-24T15:51:35.263-04:00', 'source': '#CexDBHtjfcg8Ti57', 'profile': ['http://fhir.mimic.mit.edu/StructureDefinition/mimic-condition']}, 'identifier': [{'system': 'http://fhir.mimic.mit.edu/identifier/condition', 'value': '28723315-9-V153'}], 'category': [{'coding': [{'system': 'http://terminology.hl7.org/CodeSystem/condition-category', 'code': 'encounter-diagnosis'}]}], 'code': {'coding': [{'system': 'http://fhir.mimic.mit.edu/CodeSystem/diagnosis-icd9', 'code': 'V153', 'display': 'Personal history of irradiation, presenting hazards to health'}]}, 'subject': {'reference': 'Patient/b410dd44-7d65-56f9-974f-2751e8aa80e2'}, 'encounter': {'reference': 'Encounter/f0ce593b-471a-50a0-b62a-4d2c0ef3c0cb'}, 'start_time': 5415624120}, {'resourceType': 'Condition', 'id': '933beb06-52ff-5ea6-b6eb-ba986f294088', 'meta': {'versionId': '1', 'lastUpdated': '2022-05-24T15:51:35.263-04:00', 'source': '#CexDBHtjfcg8Ti57', 'profile': ['http://fhir.mimic.mit.edu/StructureDefinition/mimic-condition']}, 'identifier': [{'system': 'http://fhir.mimic.mit.edu/identifier/condition', 'value': '23251352-3-V4582'}], 'category': [{'coding': [{'system': 'http://terminology.hl7.org/CodeSystem/condition-category', 'code': 'encounter-diagnosis'}]}], 'code': {'coding': [{'system': 'http://fhir.mimic.mit.edu/CodeSystem/diagnosis-icd9', 'code': 'V4582', 'display': 'Percutaneous transluminal coronary angioplasty status'}]}, 'subject': {'reference': 'Patient/b410dd44-7d65-56f9-974f-2751e8aa80e2'}, 'encounter': {'reference': 'Encounter/b205a31d-3330-5c8e-b5d6-e3d2421a6079'}, 'start_time': 5426582400}, {'resourceType': 'Condition', 'id': '987328d6-0dae-58b4-80e5-3335bafa2587', 'meta': {'versionId': '1', 'lastUpdated': '2022-05-24T15:51:35.263-04:00', 'source': '#CexDBHtjfcg8Ti57', 'profile': ['http://fhir.mimic.mit.edu/StructureDefinition/mimic-condition']}, 'identifier': [{'system': 'http://fhir.mimic.mit.edu/identifier/condition', 'value': '25559382-15-Z8546'}], 'category': [{'coding': [{'system': 'http://terminology.hl7.org/CodeSystem/condition-category', 'code': 'encounter-diagnosis'}]}], 'code': {'coding': [{'system': 'http://fhir.mimic.mit.edu/CodeSystem/diagnosis-icd10', 'code': 'Z8546', 'display': 'Personal history of malignant neoplasm of prostate'}]}, 'subject': {'reference': 'Patient/b410dd44-7d65-56f9-974f-2751e8aa80e2'}, 'encounter': {'reference': 'Encounter/51a1032b-2850-5ba5-a662-74a6a988cb9e'}, 'start_time': 5639393940}, {'resourceType': 'Condition', 'id': 'a2d1b6de-7afd-56f3-b9d6-76ef327f031a', 'meta': {'versionId': '1', 'lastUpdated': '2022-05-24T15:51:35.263-04:00', 'source': '#CexDBHtjfcg8Ti57', 'profile': ['http://fhir.mimic.mit.edu/StructureDefinition/mimic-condition']}, 'identifier': [{'system': 'http://fhir.mimic.mit.edu/identifier/condition', 'value': '21039249-4-49390'}], 'category': [{'coding': [{'system': 'http://terminology.hl7.org/CodeSystem/condition-category', 'code': 'encounter-diagnosis'}]}], 'code': {'coding': [{'system': 'http://fhir.mimic.mit.edu/CodeSystem/diagnosis-icd9', 'code': '49390', 'display': 'Asthma, unspecified type, unspecified'}]}, 'subject': {'reference': 'Patient/b410dd44-7d65-56f9-974f-2751e8aa80e2'}, 'encounter': {'reference': 'Encounter/50437dde-70e1-5b84-b35d-ed4bbd41246e'}, 'start_time': 5387190060}, {'resourceType': 'Condition', 'id': 'a7f25b6c-37b5-50a7-bcbe-a027640ee381', 'meta': {'versionId': '1', 'lastUpdated': '2022-05-24T15:51:35.263-04:00', 'source': '#CexDBHtjfcg8Ti57', 'profile': ['http://fhir.mimic.mit.edu/StructureDefinition/mimic-condition']}, 'identifier': [{'system': 'http://fhir.mimic.mit.edu/identifier/condition', 'value': '25559382-11-I4892'}], 'category': [{'coding': [{'system': 'http://terminology.hl7.org/CodeSystem/condition-category', 'code': 'encounter-diagnosis'}]}], 'code': {'coding': [{'system': 'http://fhir.mimic.mit.edu/CodeSystem/diagnosis-icd10', 'code': 'I4892', 'display': 'Unspecified atrial flutter'}]}, 'subject': {'reference': 'Patient/b410dd44-7d65-56f9-974f-2751e8aa80e2'}, 'encounter': {'reference': 'Encounter/51a1032b-2850-5ba5-a662-74a6a988cb9e'}, 'start_time': 5639393940}, {'resourceType': 'Condition', 'id': 'a917d118-9983-5fc8-9f9c-8912cd34255f', 'meta': {'versionId': '1', 'lastUpdated': '2022-05-24T15:51:35.263-04:00', 'source': '#CexDBHtjfcg8Ti57', 'profile': ['http://fhir.mimic.mit.edu/StructureDefinition/mimic-condition']}, 'identifier': [{'system': 'http://fhir.mimic.mit.edu/identifier/condition', 'value': '23251352-1-3968'}], 'category': [{'coding': [{'system': 'http://terminology.hl7.org/CodeSystem/condition-category', 'code': 'encounter-diagnosis'}]}], 'code': {'coding': [{'system': 'http://fhir.mimic.mit.edu/CodeSystem/diagnosis-icd9', 'code': '3968', 'display': 'Multiple involvement of mitral and aortic valves'}]}, 'subject': {'reference': 'Patient/b410dd44-7d65-56f9-974f-2751e8aa80e2'}, 'encounter': {'reference': 'Encounter/b205a31d-3330-5c8e-b5d6-e3d2421a6079'}, 'start_time': 5426582400}, {'resourceType': 'Condition', 'id': 'af837f83-6989-5797-b8d1-86e2dba2d1fa', 'meta': {'versionId': '1', 'lastUpdated': '2022-05-24T15:51:35.263-04:00', 'source': '#CexDBHtjfcg8Ti57', 'profile': ['http://fhir.mimic.mit.edu/StructureDefinition/mimic-condition']}, 'identifier': [{'system': 'http://fhir.mimic.mit.edu/identifier/condition', 'value': '21216581-2-41400'}], 'category': [{'coding': [{'system': 'http://terminology.hl7.org/CodeSystem/condition-category', 'code': 'encounter-diagnosis'}]}], 'code': {'coding': [{'system': 'http://fhir.mimic.mit.edu/CodeSystem/diagnosis-icd9', 'code': '41400', 'display': 'Coronary atherosclerosis of unspecified type of vessel, native or graft'}]}, 'subject': {'reference': 'Patient/b410dd44-7d65-56f9-974f-2751e8aa80e2'}, 'encounter': {'reference': 'Encounter/1f9c4560-e98f-55ea-815f-0c1a0f7a5ae7'}, 'start_time': 5465203800}, {'resourceType': 'Condition', 'id': 'b2da4722-7542-5227-b3c7-0892fa367f26', 'meta': {'versionId': '1', 'lastUpdated': '2022-05-24T15:51:35.263-04:00', 'source': '#CexDBHtjfcg8Ti57', 'profile': ['http://fhir.mimic.mit.edu/StructureDefinition/mimic-condition']}, 'identifier': [{'system': 'http://fhir.mimic.mit.edu/identifier/condition', 'value': '21216581-6-V4582'}], 'category': [{'coding': [{'system': 'http://terminology.hl7.org/CodeSystem/condition-category', 'code': 'encounter-diagnosis'}]}], 'code': {'coding': [{'system': 'http://fhir.mimic.mit.edu/CodeSystem/diagnosis-icd9', 'code': 'V4582', 'display': 'Percutaneous transluminal coronary angioplasty status'}]}, 'subject': {'reference': 'Patient/b410dd44-7d65-56f9-974f-2751e8aa80e2'}, 'encounter': {'reference': 'Encounter/1f9c4560-e98f-55ea-815f-0c1a0f7a5ae7'}, 'start_time': 5465203800}, {'resourceType': 'Condition', 'id': 'b5cf2096-2a35-5608-8644-fd06fcfd2347', 'meta': {'versionId': '1', 'lastUpdated': '2022-05-24T15:51:35.263-04:00', 'source': '#CexDBHtjfcg8Ti57', 'profile': ['http://fhir.mimic.mit.edu/StructureDefinition/mimic-condition']}, 'identifier': [{'system': 'http://fhir.mimic.mit.edu/identifier/condition', 'value': '21039249-3-4019'}], 'category': [{'coding': [{'system': 'http://terminology.hl7.org/CodeSystem/condition-category', 'code': 'encounter-diagnosis'}]}], 'code': {'coding': [{'system': 'http://fhir.mimic.mit.edu/CodeSystem/diagnosis-icd9', 'code': '4019', 'display': 'Unspecified essential hypertension'}]}, 'subject': {'reference': 'Patient/b410dd44-7d65-56f9-974f-2751e8aa80e2'}, 'encounter': {'reference': 'Encounter/50437dde-70e1-5b84-b35d-ed4bbd41246e'}, 'start_time': 5387190060}, {'resourceType': 'Condition', 'id': 'b5f38254-b416-5408-864c-fa9b68108298', 'meta': {'versionId': '1', 'lastUpdated': '2022-05-24T15:51:35.263-04:00', 'source': '#CexDBHtjfcg8Ti57', 'profile': ['http://fhir.mimic.mit.edu/StructureDefinition/mimic-condition']}, 'identifier': [{'system': 'http://fhir.mimic.mit.edu/identifier/condition', 'value': '25559382-17-Z8249'}], 'category': [{'coding': [{'system': 'http://terminology.hl7.org/CodeSystem/condition-category', 'code': 'encounter-diagnosis'}]}], 'code': {'coding': [{'system': 'http://fhir.mimic.mit.edu/CodeSystem/diagnosis-icd10', 'code': 'Z8249', 'display': 'Family history of ischemic heart disease and other diseases of the circulatory system'}]}, 'subject': {'reference': 'Patient/b410dd44-7d65-56f9-974f-2751e8aa80e2'}, 'encounter': {'reference': 'Encounter/51a1032b-2850-5ba5-a662-74a6a988cb9e'}, 'start_time': 5639393940}, {'resourceType': 'Condition', 'id': 'bcdf69bc-bf5a-5a75-bae1-e998fa42626d', 'meta': {'versionId': '1', 'lastUpdated': '2022-05-24T15:51:35.263-04:00', 'source': '#CexDBHtjfcg8Ti57', 'profile': ['http://fhir.mimic.mit.edu/StructureDefinition/mimic-condition']}, 'identifier': [{'system': 'http://fhir.mimic.mit.edu/identifier/condition', 'value': '25559382-16-Z87891'}], 'category': [{'coding': [{'system': 'http://terminology.hl7.org/CodeSystem/condition-category', 'code': 'encounter-diagnosis'}]}], 'code': {'coding': [{'system': 'http://fhir.mimic.mit.edu/CodeSystem/diagnosis-icd10', 'code': 'Z87891', 'display': 'Personal history of nicotine dependence'}]}, 'subject': {'reference': 'Patient/b410dd44-7d65-56f9-974f-2751e8aa80e2'}, 'encounter': {'reference': 'Encounter/51a1032b-2850-5ba5-a662-74a6a988cb9e'}, 'start_time': 5639393940}, {'resourceType': 'Condition', 'id': 'bfc20ee9-6812-5754-8976-0937baa25e86', 'meta': {'versionId': '1', 'lastUpdated': '2022-05-24T15:51:35.263-04:00', 'source': '#CexDBHtjfcg8Ti57', 'profile': ['http://fhir.mimic.mit.edu/StructureDefinition/mimic-condition']}, 'identifier': [{'system': 'http://fhir.mimic.mit.edu/identifier/condition', 'value': '25559382-4-I110'}], 'category': [{'coding': [{'system': 'http://terminology.hl7.org/CodeSystem/condition-category', 'code': 'encounter-diagnosis'}]}], 'code': {'coding': [{'system': 'http://fhir.mimic.mit.edu/CodeSystem/diagnosis-icd10', 'code': 'I110', 'display': 'Hypertensive heart disease with heart failure'}]}, 'subject': {'reference': 'Patient/b410dd44-7d65-56f9-974f-2751e8aa80e2'}, 'encounter': {'reference': 'Encounter/51a1032b-2850-5ba5-a662-74a6a988cb9e'}, 'start_time': 5639393940}, {'resourceType': 'Condition', 'id': 'd9d92ba5-8492-558e-8e45-4bfde209f513', 'meta': {'versionId': '1', 'lastUpdated': '2022-05-24T15:51:35.263-04:00', 'source': '#CexDBHtjfcg8Ti57', 'profile': ['http://fhir.mimic.mit.edu/StructureDefinition/mimic-condition']}, 'identifier': [{'system': 'http://fhir.mimic.mit.edu/identifier/condition', 'value': '23251352-4-4142'}], 'category': [{'coding': [{'system': 'http://terminology.hl7.org/CodeSystem/condition-category', 'code': 'encounter-diagnosis'}]}], 'code': {'coding': [{'system': 'http://fhir.mimic.mit.edu/CodeSystem/diagnosis-icd9', 'code': '4142', 'display': 'Chronic total occlusion of coronary artery'}]}, 'subject': {'reference': 'Patient/b410dd44-7d65-56f9-974f-2751e8aa80e2'}, 'encounter': {'reference': 'Encounter/b205a31d-3330-5c8e-b5d6-e3d2421a6079'}, 'start_time': 5426582400}, {'resourceType': 'Condition', 'id': 'db47c8d3-e051-51d1-beb0-42eb2a6449db', 'meta': {'versionId': '1', 'lastUpdated': '2022-05-24T15:51:35.263-04:00', 'source': '#CexDBHtjfcg8Ti57', 'profile': ['http://fhir.mimic.mit.edu/StructureDefinition/mimic-condition']}, 'identifier': [{'system': 'http://fhir.mimic.mit.edu/identifier/condition', 'value': '23251352-6-V1079'}], 'category': [{'coding': [{'system': 'http://terminology.hl7.org/CodeSystem/condition-category', 'code': 'encounter-diagnosis'}]}], 'code': {'coding': [{'system': 'http://fhir.mimic.mit.edu/CodeSystem/diagnosis-icd9', 'code': 'V1079', 'display': 'Personal history of other lymphatic and hematopoietic neoplasms'}]}, 'subject': {'reference': 'Patient/b410dd44-7d65-56f9-974f-2751e8aa80e2'}, 'encounter': {'reference': 'Encounter/b205a31d-3330-5c8e-b5d6-e3d2421a6079'}, 'start_time': 5426582400}, {'resourceType': 'Condition', 'id': 'e046faff-a228-5a90-9eac-806c97c42216', 'meta': {'versionId': '1', 'lastUpdated': '2022-05-24T15:51:35.263-04:00', 'source': '#CexDBHtjfcg8Ti57', 'profile': ['http://fhir.mimic.mit.edu/StructureDefinition/mimic-condition']}, 'identifier': [{'system': 'http://fhir.mimic.mit.edu/identifier/condition', 'value': '25559382-1-I25110'}], 'category': [{'coding': [{'system': 'http://terminology.hl7.org/CodeSystem/condition-category', 'code': 'encounter-diagnosis'}]}], 'code': {'coding': [{'system': 'http://fhir.mimic.mit.edu/CodeSystem/diagnosis-icd10', 'code': 'I25110', 'display': 'Atherosclerotic heart disease of native coronary artery with unstable angina pectoris'}]}, 'subject': {'reference': 'Patient/b410dd44-7d65-56f9-974f-2751e8aa80e2'}, 'encounter': {'reference': 'Encounter/51a1032b-2850-5ba5-a662-74a6a988cb9e'}, 'start_time': 5639393940}, {'resourceType': 'Condition', 'id': 'e630db45-d51e-5d3b-843f-b48457e90b45', 'meta': {'versionId': '1', 'lastUpdated': '2022-05-24T15:51:35.263-04:00', 'source': '#CexDBHtjfcg8Ti57', 'profile': ['http://fhir.mimic.mit.edu/StructureDefinition/mimic-condition']}, 'identifier': [{'system': 'http://fhir.mimic.mit.edu/identifier/condition', 'value': '21039249-1-41401'}], 'category': [{'coding': [{'system': 'http://terminology.hl7.org/CodeSystem/condition-category', 'code': 'encounter-diagnosis'}]}], 'code': {'coding': [{'system': 'http://fhir.mimic.mit.edu/CodeSystem/diagnosis-icd9', 'code': '41401', 'display': 'Coronary atherosclerosis of native coronary artery'}]}, 'subject': {'reference': 'Patient/b410dd44-7d65-56f9-974f-2751e8aa80e2'}, 'encounter': {'reference': 'Encounter/50437dde-70e1-5b84-b35d-ed4bbd41246e'}, 'start_time': 5387190060}, {'resourceType': 'Condition', 'id': 'e8394967-61c3-5b1e-a2f2-7c48db7d968d', 'meta': {'versionId': '1', 'lastUpdated': '2022-05-24T15:51:35.263-04:00', 'source': '#CexDBHtjfcg8Ti57', 'profile': ['http://fhir.mimic.mit.edu/StructureDefinition/mimic-condition']}, 'identifier': [{'system': 'http://fhir.mimic.mit.edu/identifier/condition', 'value': '28108313-5-Z8571'}], 'category': [{'coding': [{'system': 'http://terminology.hl7.org/CodeSystem/condition-category', 'code': 'encounter-diagnosis'}]}], 'code': {'coding': [{'system': 'http://fhir.mimic.mit.edu/CodeSystem/diagnosis-icd10', 'code': 'Z8571', 'display': 'Personal history of Hodgkin lymphoma'}]}, 'subject': {'reference': 'Patient/b410dd44-7d65-56f9-974f-2751e8aa80e2'}, 'encounter': {'reference': 'Encounter/ca52755d-7780-524a-a5f8-6c5d2fc2136a'}, 'start_time': 5616018000}, {'resourceType': 'Condition', 'id': 'f29bedb7-e1b2-5a53-a918-246279447119', 'meta': {'versionId': '1', 'lastUpdated': '2022-05-24T15:51:35.263-04:00', 'source': '#CexDBHtjfcg8Ti57', 'profile': ['http://fhir.mimic.mit.edu/StructureDefinition/mimic-condition']}, 'identifier': [{'system': 'http://fhir.mimic.mit.edu/identifier/condition', 'value': '23251352-9-V153'}], 'category': [{'coding': [{'system': 'http://terminology.hl7.org/CodeSystem/condition-category', 'code': 'encounter-diagnosis'}]}], 'code': {'coding': [{'system': 'http://fhir.mimic.mit.edu/CodeSystem/diagnosis-icd9', 'code': 'V153', 'display': 'Personal history of irradiation, presenting hazards to health'}]}, 'subject': {'reference': 'Patient/b410dd44-7d65-56f9-974f-2751e8aa80e2'}, 'encounter': {'reference': 'Encounter/b205a31d-3330-5c8e-b5d6-e3d2421a6079'}, 'start_time': 5426582400}, {'resourceType': 'Condition', 'id': 'f517f1d5-0a6e-5fef-b188-a9e89d0bc9db', 'meta': {'versionId': '1', 'lastUpdated': '2022-05-24T15:51:35.263-04:00', 'source': '#CexDBHtjfcg8Ti57', 'profile': ['http://fhir.mimic.mit.edu/StructureDefinition/mimic-condition']}, 'identifier': [{'system': 'http://fhir.mimic.mit.edu/identifier/condition', 'value': '28723315-5-V4582'}], 'category': [{'coding': [{'system': 'http://terminology.hl7.org/CodeSystem/condition-category', 'code': 'encounter-diagnosis'}]}], 'code': {'coding': [{'system': 'http://fhir.mimic.mit.edu/CodeSystem/diagnosis-icd9', 'code': 'V4582', 'display': 'Percutaneous transluminal coronary angioplasty status'}]}, 'subject': {'reference': 'Patient/b410dd44-7d65-56f9-974f-2751e8aa80e2'}, 'encounter': {'reference': 'Encounter/f0ce593b-471a-50a0-b62a-4d2c0ef3c0cb'}, 'start_time': 5415624120}, {'resourceType': 'Condition', 'id': 'f57e23e1-328e-5e98-8338-31ed2e5bed55', 'meta': {'versionId': '1', 'lastUpdated': '2022-05-24T15:51:35.263-04:00', 'source': '#CexDBHtjfcg8Ti57', 'profile': ['http://fhir.mimic.mit.edu/StructureDefinition/mimic-condition']}, 'identifier': [{'system': 'http://fhir.mimic.mit.edu/identifier/condition', 'value': '25559382-10-J45909'}], 'category': [{'coding': [{'system': 'http://terminology.hl7.org/CodeSystem/condition-category', 'code': 'encounter-diagnosis'}]}], 'code': {'coding': [{'system': 'http://fhir.mimic.mit.edu/CodeSystem/diagnosis-icd10', 'code': 'J45909', 'display': 'Unspecified asthma, uncomplicated'}]}, 'subject': {'reference': 'Patient/b410dd44-7d65-56f9-974f-2751e8aa80e2'}, 'encounter': {'reference': 'Encounter/51a1032b-2850-5ba5-a662-74a6a988cb9e'}, 'start_time': 5639393940}, {'resourceType': 'Condition', 'id': 'fbd48f04-5988-5347-8266-90391b6a9a75', 'meta': {'versionId': '1', 'lastUpdated': '2022-05-24T15:51:35.263-04:00', 'source': '#CexDBHtjfcg8Ti57', 'profile': ['http://fhir.mimic.mit.edu/StructureDefinition/mimic-condition']}, 'identifier': [{'system': 'http://fhir.mimic.mit.edu/identifier/condition', 'value': '21216581-9-V1046'}], 'category': [{'coding': [{'system': 'http://terminology.hl7.org/CodeSystem/condition-category', 'code': 'encounter-diagnosis'}]}], 'code': {'coding': [{'system': 'http://fhir.mimic.mit.edu/CodeSystem/diagnosis-icd9', 'code': 'V1046', 'display': 'Personal history of malignant neoplasm of prostate'}]}, 'subject': {'reference': 'Patient/b410dd44-7d65-56f9-974f-2751e8aa80e2'}, 'encounter': {'reference': 'Encounter/1f9c4560-e98f-55ea-815f-0c1a0f7a5ae7'}, 'start_time': 5465203800}, {'resourceType': 'Condition', 'id': 'fe4e5f43-7e88-5920-bffb-4ad90f547dc8', 'meta': {'versionId': '1', 'lastUpdated': '2022-05-24T15:51:35.263-04:00', 'source': '#CexDBHtjfcg8Ti57', 'profile': ['http://fhir.mimic.mit.edu/StructureDefinition/mimic-condition']}, 'identifier': [{'system': 'http://fhir.mimic.mit.edu/identifier/condition', 'value': '21216581-1-42732'}], 'category': [{'coding': [{'system': 'http://terminology.hl7.org/CodeSystem/condition-category', 'code': 'encounter-diagnosis'}]}], 'code': {'coding': [{'system': 'http://fhir.mimic.mit.edu/CodeSystem/diagnosis-icd9', 'code': '42732', 'display': 'Atrial flutter'}]}, 'subject': {'reference': 'Patient/b410dd44-7d65-56f9-974f-2751e8aa80e2'}, 'encounter': {'reference': 'Encounter/1f9c4560-e98f-55ea-815f-0c1a0f7a5ae7'}, 'start_time': 5465203800}]\n"
     ]
    }
   ],
   "source": [
    "#output will show the array of all conditions associated with a specfic patient through its given id\n",
    "\n",
    "patient_id = 'b410dd44-7d65-56f9-974f-2751e8aa80e2' \n",
    "\n",
    "specific_id = patient_conditions.get(patient_id, [])\n",
    "\n",
    "print(\"Conditions for specific patient ID,\", patient_id, \":\\n\")\n",
    "\n",
    "print(specific_id)\n"
   ]
  },
  {
   "cell_type": "markdown",
   "id": "35a87006-bb62-4c1b-8800-b0e47ac76664",
   "metadata": {},
   "source": [
    "### 6] creating a dictionary from the list of encounters"
   ]
  },
  {
   "cell_type": "code",
   "execution_count": 27,
   "id": "263808c2-0283-4d58-9e04-ec612afe6605",
   "metadata": {},
   "outputs": [],
   "source": [
    "\n",
    "#the keys are encounter IDs and the values are the dictionaries representing the full details of those encounters\n",
    "\n",
    "encounter_by_id = {encounter['id']: encounter for encounter in encounters_data}"
   ]
  },
  {
   "cell_type": "code",
   "execution_count": 29,
   "id": "124b7a20-5eff-4aaa-9d3f-45bbfc300ad2",
   "metadata": {},
   "outputs": [
    {
     "name": "stdout",
     "output_type": "stream",
     "text": [
      "{'resourceType': 'Encounter', 'id': '0071a339-74cd-596a-9083-771d41d6d118', 'meta': {'versionId': '1', 'lastUpdated': '2022-05-24T16:22:58.682-04:00', 'source': '#yJ9Zy3hOLyEtjrG2', 'profile': ['http://fhir.mimic.mit.edu/StructureDefinition/mimic-encounter']}, 'identifier': [{'use': 'usual', 'system': 'http://fhir.mimic.mit.edu/identifier/encounter', 'value': '22429197', 'assigner': {'reference': 'Organization/ee172322-118b-5716-abbc-18e4c5437e15'}}], 'status': 'finished', 'class': {'system': 'http://fhir.mimic.mit.edu/CodeSystem/admission-class', 'code': 'EW EMER.'}, 'type': [{'coding': [{'system': 'http://snomed.info/sct', 'code': '453701000124103', 'display': 'In-person encounter (procedure)'}]}], 'serviceType': {'coding': [{'system': 'http://fhir.mimic.mit.edu/CodeSystem/services', 'code': 'TRAUM'}]}, 'priority': {'coding': [{'system': 'http://fhir.mimic.mit.edu/CodeSystem/admission-type', 'code': 'EW EMER.'}]}, 'subject': {'reference': 'Patient/24450f28-a039-57d8-95c9-d7ba5508ecd4'}, 'period': {'start': '2147-12-30T08:40:00-05:00', 'end': '2148-01-11T17:55:00-05:00'}, 'hospitalization': {'admitSource': {'coding': [{'system': 'http://fhir.mimic.mit.edu/CodeSystem/admit-source', 'code': 'EMERGENCY ROOM'}]}, 'dischargeDisposition': {'coding': [{'system': 'http://fhir.mimic.mit.edu/CodeSystem/discharge-disposition', 'code': 'REHAB'}]}}, 'location': [{'location': {'reference': 'Location/501cd59a-cd8a-5f98-8298-2ca9c897d59f'}, 'period': {'start': '2147-12-30T06:45:00-05:00', 'end': '2147-12-30T09:33:00-05:00'}}, {'location': {'reference': 'Location/00e4b7f2-1d93-5521-9dd9-cba8fa9461af'}, 'period': {'start': '2147-12-30T09:33:00-05:00', 'end': '2148-01-02T23:24:32-05:00'}}, {'location': {'reference': 'Location/00e4b7f2-1d93-5521-9dd9-cba8fa9461af'}, 'period': {'start': '2148-01-02T23:24:32-05:00', 'end': '2148-01-08T18:14:21-05:00'}}, {'location': {'reference': 'Location/d82eeafd-5ac3-5765-8eb2-2b4153978abb'}, 'period': {'start': '2148-01-08T18:14:21-05:00', 'end': '2148-01-11T17:55:24-05:00'}}], 'serviceProvider': {'reference': 'Organization/ee172322-118b-5716-abbc-18e4c5437e15'}}\n"
     ]
    }
   ],
   "source": [
    "#viewing details for an encounter by it's id\n",
    "\n",
    "details = encounter_by_id.get('0071a339-74cd-596a-9083-771d41d6d118')\n",
    "\n",
    "print(details)"
   ]
  },
  {
   "cell_type": "markdown",
   "id": "f2908e29-364f-41d6-8a71-51beec7d4b0e",
   "metadata": {},
   "source": [
    "### ] assigning times for the conditions"
   ]
  },
  {
   "cell_type": "code",
   "execution_count": 11,
   "id": "dbe7b500-17c5-4abb-bb49-fdd3f5ac94f2",
   "metadata": {},
   "outputs": [],
   "source": [
    "\n",
    "#time format conversion to UNIX\n",
    "\n",
    "def convert_to_unix_timestamp(iso_format_time):\n",
    "    \n",
    "    #parsing the datetime string to a datetime object\n",
    "    dt = parser.parse(iso_format_time)\n",
    "    # Convert the datetime object to a UNIX timestamp\n",
    "    return int(dt.timestamp())\n",
    "\n",
    "\n",
    "#updating each medical condition record with the start time of the corresponding encounter\n",
    "\n",
    "for conditions in patient_conditions.values():\n",
    "    \n",
    "    for condition in conditions:\n",
    "        encounter_ref = condition.get('encounter', {}).get('reference', \"\")\n",
    "        encounter_id = encounter_ref.split('/')[-1] if encounter_ref else None\n",
    "        \n",
    "        if encounter_id and encounter_id in encounter_by_id:\n",
    "            iso_format_time = encounter_by_id[encounter_id].get('period', {}).get('start', \"\")\n",
    "            \n",
    "            if iso_format_time:\n",
    "                condition['start_time'] = convert_to_unix_timestamp(iso_format_time)\n",
    "            else:\n",
    "                condition['start_time'] = None\n",
    "\n"
   ]
  },
  {
   "cell_type": "markdown",
   "id": "c7454a91-0bd8-4d0e-b602-8a3ae1e49470",
   "metadata": {},
   "source": [
    "### 6] creating a csv file"
   ]
  },
  {
   "cell_type": "code",
   "execution_count": 12,
   "id": "65110b20-59ca-4e67-86cd-93ce6a984e0a",
   "metadata": {},
   "outputs": [],
   "source": [
    "\n",
    "csv_file = 'output_conditions.csv'\n",
    "\n",
    "column_names = ['pid', 'time', 'code', 'description']\n",
    "\n",
    "with open(csv_file, 'w', newline='') as csvfile:\n",
    "    \n",
    "    #initializing a CSV writer object that will use csvfile as the file to write to\n",
    "    writer = csv.DictWriter(csvfile, fieldnames = column_names)\n",
    "    writer.writeheader()\n",
    "    \n",
    "    for patient_id, conditions in patient_conditions.items():\n",
    "        \n",
    "        for condition in conditions:\n",
    "            \n",
    "            #extracting condition details\n",
    "            code = condition.get('code', {}).get('coding', [{}])[0].get('code', \"\")\n",
    "            description = condition.get('code', {}).get('coding', [{}])[0].get('display', \"\")\n",
    "            start_time = condition.get('start_time', \"\")\n",
    "            \n",
    "            writer.writerow({\n",
    "                'pid': patient_id,\n",
    "                'time': start_time,\n",
    "                'code': code,\n",
    "                'description': description\n",
    "            })\n",
    "\n"
   ]
  },
  {
   "cell_type": "code",
   "execution_count": 13,
   "id": "223985e3-bf50-43db-8aca-7f60e3554338",
   "metadata": {},
   "outputs": [
    {
     "data": {
      "text/plain": [
       "'output_conditions.csv'"
      ]
     },
     "execution_count": 13,
     "metadata": {},
     "output_type": "execute_result"
    }
   ],
   "source": [
    "csv_file"
   ]
  },
  {
   "cell_type": "markdown",
   "id": "2cfb9358-b23a-405f-acad-3baa34571427",
   "metadata": {},
   "source": [
    "### 7] viewing the csv file"
   ]
  },
  {
   "cell_type": "code",
   "execution_count": 14,
   "id": "f04ab0c6-24ca-4df6-9f06-d07eeb196d11",
   "metadata": {},
   "outputs": [],
   "source": [
    "final_csv = pd.read_csv('output_conditions.csv')"
   ]
  },
  {
   "cell_type": "code",
   "execution_count": 17,
   "id": "2dfea074-c878-4e19-b455-7ca36022ae23",
   "metadata": {},
   "outputs": [
    {
     "data": {
      "text/html": [
       "<div>\n",
       "<style scoped>\n",
       "    .dataframe tbody tr th:only-of-type {\n",
       "        vertical-align: middle;\n",
       "    }\n",
       "\n",
       "    .dataframe tbody tr th {\n",
       "        vertical-align: top;\n",
       "    }\n",
       "\n",
       "    .dataframe thead th {\n",
       "        text-align: right;\n",
       "    }\n",
       "</style>\n",
       "<table border=\"1\" class=\"dataframe\">\n",
       "  <thead>\n",
       "    <tr style=\"text-align: right;\">\n",
       "      <th></th>\n",
       "      <th>pid</th>\n",
       "      <th>time</th>\n",
       "      <th>code</th>\n",
       "      <th>description</th>\n",
       "    </tr>\n",
       "  </thead>\n",
       "  <tbody>\n",
       "    <tr>\n",
       "      <th>0</th>\n",
       "      <td>b410dd44-7d65-56f9-974f-2751e8aa80e2</td>\n",
       "      <td>5616018000</td>\n",
       "      <td>Z8546</td>\n",
       "      <td>Personal history of malignant neoplasm of pros...</td>\n",
       "    </tr>\n",
       "    <tr>\n",
       "      <th>1</th>\n",
       "      <td>b410dd44-7d65-56f9-974f-2751e8aa80e2</td>\n",
       "      <td>5387190060</td>\n",
       "      <td>V1072</td>\n",
       "      <td>Personal history of hodgkin's disease</td>\n",
       "    </tr>\n",
       "    <tr>\n",
       "      <th>2</th>\n",
       "      <td>b410dd44-7d65-56f9-974f-2751e8aa80e2</td>\n",
       "      <td>5639393940</td>\n",
       "      <td>Z7902</td>\n",
       "      <td>Long term (current) use of antithrombotics/ant...</td>\n",
       "    </tr>\n",
       "    <tr>\n",
       "      <th>3</th>\n",
       "      <td>b410dd44-7d65-56f9-974f-2751e8aa80e2</td>\n",
       "      <td>5426582400</td>\n",
       "      <td>49390</td>\n",
       "      <td>Asthma, unspecified type, unspecified</td>\n",
       "    </tr>\n",
       "    <tr>\n",
       "      <th>4</th>\n",
       "      <td>b410dd44-7d65-56f9-974f-2751e8aa80e2</td>\n",
       "      <td>5426582400</td>\n",
       "      <td>2724</td>\n",
       "      <td>Other and unspecified hyperlipidemia</td>\n",
       "    </tr>\n",
       "    <tr>\n",
       "      <th>...</th>\n",
       "      <td>...</td>\n",
       "      <td>...</td>\n",
       "      <td>...</td>\n",
       "      <td>...</td>\n",
       "    </tr>\n",
       "    <tr>\n",
       "      <th>4176</th>\n",
       "      <td>94abdf17-f13a-5eae-aac0-eca407bbfadd</td>\n",
       "      <td>6243609900</td>\n",
       "      <td>Z23</td>\n",
       "      <td>Encounter for immunization</td>\n",
       "    </tr>\n",
       "    <tr>\n",
       "      <th>4177</th>\n",
       "      <td>94abdf17-f13a-5eae-aac0-eca407bbfadd</td>\n",
       "      <td>6243609900</td>\n",
       "      <td>K219</td>\n",
       "      <td>Gastro-esophageal reflux disease without esoph...</td>\n",
       "    </tr>\n",
       "    <tr>\n",
       "      <th>4178</th>\n",
       "      <td>5ddeb201-5de6-5177-a116-fa82ce8ad2f2</td>\n",
       "      <td>5545862220</td>\n",
       "      <td>Z85850</td>\n",
       "      <td>Personal history of malignant neoplasm of thyroid</td>\n",
       "    </tr>\n",
       "    <tr>\n",
       "      <th>4179</th>\n",
       "      <td>5ddeb201-5de6-5177-a116-fa82ce8ad2f2</td>\n",
       "      <td>5545862220</td>\n",
       "      <td>G40909</td>\n",
       "      <td>Epilepsy, unspecified, not intractable, withou...</td>\n",
       "    </tr>\n",
       "    <tr>\n",
       "      <th>4180</th>\n",
       "      <td>5ddeb201-5de6-5177-a116-fa82ce8ad2f2</td>\n",
       "      <td>5545862220</td>\n",
       "      <td>D1802</td>\n",
       "      <td>Hemangioma of intracranial structures</td>\n",
       "    </tr>\n",
       "  </tbody>\n",
       "</table>\n",
       "<p>4181 rows × 4 columns</p>\n",
       "</div>"
      ],
      "text/plain": [
       "                                       pid        time    code  \\\n",
       "0     b410dd44-7d65-56f9-974f-2751e8aa80e2  5616018000   Z8546   \n",
       "1     b410dd44-7d65-56f9-974f-2751e8aa80e2  5387190060   V1072   \n",
       "2     b410dd44-7d65-56f9-974f-2751e8aa80e2  5639393940   Z7902   \n",
       "3     b410dd44-7d65-56f9-974f-2751e8aa80e2  5426582400   49390   \n",
       "4     b410dd44-7d65-56f9-974f-2751e8aa80e2  5426582400    2724   \n",
       "...                                    ...         ...     ...   \n",
       "4176  94abdf17-f13a-5eae-aac0-eca407bbfadd  6243609900     Z23   \n",
       "4177  94abdf17-f13a-5eae-aac0-eca407bbfadd  6243609900    K219   \n",
       "4178  5ddeb201-5de6-5177-a116-fa82ce8ad2f2  5545862220  Z85850   \n",
       "4179  5ddeb201-5de6-5177-a116-fa82ce8ad2f2  5545862220  G40909   \n",
       "4180  5ddeb201-5de6-5177-a116-fa82ce8ad2f2  5545862220   D1802   \n",
       "\n",
       "                                            description  \n",
       "0     Personal history of malignant neoplasm of pros...  \n",
       "1                 Personal history of hodgkin's disease  \n",
       "2     Long term (current) use of antithrombotics/ant...  \n",
       "3                 Asthma, unspecified type, unspecified  \n",
       "4                  Other and unspecified hyperlipidemia  \n",
       "...                                                 ...  \n",
       "4176                         Encounter for immunization  \n",
       "4177  Gastro-esophageal reflux disease without esoph...  \n",
       "4178  Personal history of malignant neoplasm of thyroid  \n",
       "4179  Epilepsy, unspecified, not intractable, withou...  \n",
       "4180              Hemangioma of intracranial structures  \n",
       "\n",
       "[4181 rows x 4 columns]"
      ]
     },
     "execution_count": 17,
     "metadata": {},
     "output_type": "execute_result"
    }
   ],
   "source": [
    "final_csv"
   ]
  },
  {
   "cell_type": "markdown",
   "id": "47f5c91c-c98a-4d86-b074-80daafe44e49",
   "metadata": {},
   "source": [
    "   "
   ]
  },
  {
   "cell_type": "markdown",
   "id": "ab620b08-71e3-4be9-b649-20aed32f157f",
   "metadata": {},
   "source": [
    "****"
   ]
  }
 ],
 "metadata": {
  "kernelspec": {
   "display_name": "Python 3 (ipykernel)",
   "language": "python",
   "name": "python3"
  },
  "language_info": {
   "codemirror_mode": {
    "name": "ipython",
    "version": 3
   },
   "file_extension": ".py",
   "mimetype": "text/x-python",
   "name": "python",
   "nbconvert_exporter": "python",
   "pygments_lexer": "ipython3",
   "version": "3.11.7"
  }
 },
 "nbformat": 4,
 "nbformat_minor": 5
}
